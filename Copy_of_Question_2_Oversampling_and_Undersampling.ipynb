{
  "nbformat": 4,
  "nbformat_minor": 0,
  "metadata": {
    "colab": {
      "provenance": [],
      "authorship_tag": "ABX9TyMbe61eFaXTAWYwokpesCV2",
      "include_colab_link": true
    },
    "kernelspec": {
      "name": "python3",
      "display_name": "Python 3"
    },
    "language_info": {
      "name": "python"
    }
  },
  "cells": [
    {
      "cell_type": "markdown",
      "metadata": {
        "id": "view-in-github",
        "colab_type": "text"
      },
      "source": [
        "<a href=\"https://colab.research.google.com/github/tz2004a/sklearnWork/blob/Google-Colab-Notebooks/Copy_of_Question_2_Oversampling_and_Undersampling.ipynb\" target=\"_parent\"><img src=\"https://colab.research.google.com/assets/colab-badge.svg\" alt=\"Open In Colab\"/></a>"
      ]
    },
    {
      "cell_type": "code",
      "execution_count": null,
      "metadata": {
        "colab": {
          "base_uri": "https://localhost:8080/"
        },
        "id": "cRPyztQSftHN",
        "outputId": "cf415a3e-b05b-4bb9-a1b0-996a8e11bea3"
      },
      "outputs": [
        {
          "output_type": "stream",
          "name": "stdout",
          "text": [
            "Looking in indexes: https://pypi.org/simple, https://us-python.pkg.dev/colab-wheels/public/simple/\n",
            "Requirement already satisfied: scikit-learn in /usr/local/lib/python3.10/dist-packages (1.2.2)\n",
            "Requirement already satisfied: numpy>=1.17.3 in /usr/local/lib/python3.10/dist-packages (from scikit-learn) (1.22.4)\n",
            "Requirement already satisfied: scipy>=1.3.2 in /usr/local/lib/python3.10/dist-packages (from scikit-learn) (1.10.1)\n",
            "Requirement already satisfied: joblib>=1.1.1 in /usr/local/lib/python3.10/dist-packages (from scikit-learn) (1.2.0)\n",
            "Requirement already satisfied: threadpoolctl>=2.0.0 in /usr/local/lib/python3.10/dist-packages (from scikit-learn) (3.1.0)\n"
          ]
        }
      ],
      "source": [
        "#1\n",
        "%pip install scikit-learn"
      ]
    },
    {
      "cell_type": "code",
      "source": [
        "#2\n",
        "import pandas as pd\n",
        "import numpy as np\n",
        "from sklearn import datasets\n",
        "from sklearn import svm\n",
        "from sklearn.datasets import fetch_openml\n",
        "X, y = fetch_openml('qsar-biodeg', return_X_y=True)\n",
        "df = X\n",
        "df['y'] = y\n",
        "X"
      ],
      "metadata": {
        "id": "wCn1g702gc5v"
      },
      "execution_count": null,
      "outputs": []
    },
    {
      "cell_type": "code",
      "source": [
        "# Normal CrossVal Decision Tree (Control) (#3)\n",
        "import pandas as pd\n",
        "from sklearn.tree import DecisionTreeClassifier\n",
        "from sklearn.datasets import make_classification\n",
        "from sklearn.model_selection import train_test_split\n",
        "X, y = fetch_openml('qsar-biodeg', return_X_y=True)\n",
        "X_train, X_test, y_train, y_test = train_test_split(X, y, test_size=0.33)\n",
        "clf = DecisionTreeClassifier().fit(X_test, y_test)\n",
        "from sklearn.model_selection import cross_val_score\n",
        "scoresDT = cross_val_score(clf, X_train, y_train, cv=10)\n",
        "scoresDT"
      ],
      "metadata": {
        "colab": {
          "base_uri": "https://localhost:8080/"
        },
        "id": "7L_P3e1GiDD6",
        "outputId": "c4de796f-bc2d-40d7-f0c2-92afd166930b"
      },
      "execution_count": null,
      "outputs": [
        {
          "output_type": "stream",
          "name": "stderr",
          "text": [
            "/usr/local/lib/python3.10/dist-packages/sklearn/datasets/_openml.py:968: FutureWarning: The default value of `parser` will change from `'liac-arff'` to `'auto'` in 1.4. You can set `parser='auto'` to silence this warning. Therefore, an `ImportError` will be raised from 1.4 if the dataset is dense and pandas is not installed. Note that the pandas parser may return different data types. See the Notes Section in fetch_openml's API doc for details.\n",
            "  warn(\n"
          ]
        },
        {
          "output_type": "execute_result",
          "data": {
            "text/plain": [
              "array([0.84507042, 0.83098592, 0.77464789, 0.76056338, 0.77464789,\n",
              "       0.78873239, 0.81428571, 0.8       , 0.81428571, 0.77142857])"
            ]
          },
          "metadata": {},
          "execution_count": 4
        }
      ]
    },
    {
      "cell_type": "code",
      "source": [
        "# Getting the AUC for the Normal Decision Tree\n",
        "from sklearn.metrics import roc_auc_score\n",
        "cross_val_score(clf, X_train, y_train, cv=10, scoring='roc_auc_ovo').mean()\n",
        "cross_val_score(clf, X_train, y_train, cv=10, scoring='roc_auc_ovo').var()"
      ],
      "metadata": {
        "id": "af9a82iSrqxe",
        "outputId": "0e4cda99-10b8-4202-c7ab-f74c0dd39c69",
        "colab": {
          "base_uri": "https://localhost:8080/"
        }
      },
      "execution_count": null,
      "outputs": [
        {
          "output_type": "execute_result",
          "data": {
            "text/plain": [
              "0.0014838995935388458"
            ]
          },
          "metadata": {},
          "execution_count": 5
        }
      ]
    },
    {
      "cell_type": "code",
      "source": [
        "#Getting the data for the Normal CrossVal Decision Tree (Control)\n",
        "Y_test_pred = clf.predict(X_test)\n",
        "from sklearn.metrics import classification_report\n",
        "print(classification_report(y_test, Y_test_pred))"
      ],
      "metadata": {
        "colab": {
          "base_uri": "https://localhost:8080/"
        },
        "id": "bfrGCU-vx5QC",
        "outputId": "437a301f-63f3-4757-fe14-805a869629f9"
      },
      "execution_count": null,
      "outputs": [
        {
          "output_type": "stream",
          "name": "stdout",
          "text": [
            "              precision    recall  f1-score   support\n",
            "\n",
            "           1       1.00      1.00      1.00       224\n",
            "           2       1.00      1.00      1.00       125\n",
            "\n",
            "    accuracy                           1.00       349\n",
            "   macro avg       1.00      1.00      1.00       349\n",
            "weighted avg       1.00      1.00      1.00       349\n",
            "\n"
          ]
        }
      ]
    },
    {
      "cell_type": "code",
      "source": [
        "# Getting the GMean for the Normal Decision Tree\n",
        "from imblearn.metrics import geometric_mean_score\n",
        "geometric_mean_score(y_test, Y_test_pred)"
      ],
      "metadata": {
        "id": "qQSP3UGOU_4z",
        "outputId": "565e70cd-b6c4-4f62-eb59-4b5b9c118701",
        "colab": {
          "base_uri": "https://localhost:8080/"
        }
      },
      "execution_count": null,
      "outputs": [
        {
          "output_type": "execute_result",
          "data": {
            "text/plain": [
              "1.0"
            ]
          },
          "metadata": {},
          "execution_count": 8
        }
      ]
    },
    {
      "cell_type": "code",
      "source": [
        "y_test"
      ],
      "metadata": {
        "id": "gBQJvsHQsaJ1",
        "outputId": "b9da8225-91c8-47ce-c3de-b9b2e81888b3",
        "colab": {
          "base_uri": "https://localhost:8080/"
        }
      },
      "execution_count": null,
      "outputs": [
        {
          "output_type": "execute_result",
          "data": {
            "text/plain": [
              "380    1\n",
              "117    2\n",
              "974    1\n",
              "261    2\n",
              "921    1\n",
              "      ..\n",
              "402    1\n",
              "56     2\n",
              "518    1\n",
              "907    2\n",
              "384    1\n",
              "Name: Class, Length: 349, dtype: category\n",
              "Categories (2, object): ['1', '2']"
            ]
          },
          "metadata": {},
          "execution_count": 13
        }
      ]
    },
    {
      "cell_type": "code",
      "source": [
        "# Normal CrossVal MLP (Control) (#4)\n",
        "#WORKING MLP\n",
        "import pandas as pd\n",
        "from sklearn.neural_network import MLPClassifier\n",
        "from sklearn.datasets import make_classification\n",
        "from sklearn.model_selection import train_test_split\n",
        "X, y = fetch_openml('qsar-biodeg', return_X_y=True)\n",
        "X_train, X_test, y_train, y_test = train_test_split(X, y, test_size=0.33)\n",
        "clf = MLPClassifier(random_state=1, max_iter=1000).fit(X_test, y_test)\n",
        "from sklearn.model_selection import cross_val_score\n",
        "scoresMLP = cross_val_score(clf, X_train, y_train, cv=10)\n",
        "scoresMLP\n",
        "#accuracyScores = cross_val_score(clf, X_train, y_train, cv=10, scoring='accuracy')\n",
        "#accuracyScores\n",
        "#errorScores = cross_val_score(clf, X_train, y_train, cv=10, scoring='neg_mean_absolute_error')\n",
        "#errorScores"
      ],
      "metadata": {
        "id": "A7SiMQvmLECU"
      },
      "execution_count": null,
      "outputs": []
    },
    {
      "cell_type": "code",
      "source": [
        "# Getting the AUC for the Normal CrossVal MLP\n",
        "from sklearn.metrics import roc_auc_score\n",
        "#cross_val_score(clf, X_train, y_train, cv=10, scoring='roc_auc_ovo').mean()\n",
        "cross_val_score(clf, X_train, y_train, cv=10, scoring='roc_auc_ovo').var()"
      ],
      "metadata": {
        "id": "Azh6sbTXwDMT",
        "outputId": "94cd2a87-32b6-42e8-f684-a4e0be9624c0",
        "colab": {
          "base_uri": "https://localhost:8080/"
        }
      },
      "execution_count": null,
      "outputs": [
        {
          "output_type": "execute_result",
          "data": {
            "text/plain": [
              "0.0005507799353994178"
            ]
          },
          "metadata": {},
          "execution_count": 11
        }
      ]
    },
    {
      "cell_type": "code",
      "source": [
        "#Getting the data for the Normal CrossVal MLP (Control)\n",
        "Y_test_pred = clf.predict(X_test)\n",
        "from sklearn.metrics import classification_report\n",
        "print(classification_report(y_test, Y_test_pred))"
      ],
      "metadata": {
        "colab": {
          "base_uri": "https://localhost:8080/"
        },
        "id": "5H8EfsKVyM4z",
        "outputId": "4ca583a9-831c-46bf-ec17-e8613fb1b3b5"
      },
      "execution_count": null,
      "outputs": [
        {
          "output_type": "stream",
          "name": "stdout",
          "text": [
            "              precision    recall  f1-score   support\n",
            "\n",
            "           1       0.98      0.98      0.98       234\n",
            "           2       0.96      0.97      0.96       115\n",
            "\n",
            "    accuracy                           0.97       349\n",
            "   macro avg       0.97      0.97      0.97       349\n",
            "weighted avg       0.97      0.97      0.97       349\n",
            "\n"
          ]
        }
      ]
    },
    {
      "cell_type": "code",
      "source": [
        "# Getting the GMean for the Normal MLP\n",
        "from imblearn.metrics import geometric_mean_score\n",
        "geometric_mean_score(y_test, Y_test_pred)"
      ],
      "metadata": {
        "id": "gUG-ElZuV0Sl",
        "outputId": "61c3b6d7-3630-452b-866c-f90b7ed6e9ec",
        "colab": {
          "base_uri": "https://localhost:8080/"
        }
      },
      "execution_count": null,
      "outputs": [
        {
          "output_type": "execute_result",
          "data": {
            "text/plain": [
              "0.9719017893137911"
            ]
          },
          "metadata": {},
          "execution_count": 14
        }
      ]
    },
    {
      "cell_type": "code",
      "source": [
        "# Reset the data (X) #5\n",
        "X, y = fetch_openml('qsar-biodeg', return_X_y=True)\n",
        "df = X\n",
        "df['y'] = y\n",
        "X\n",
        "\n",
        "# Original State of the Data\n",
        "from collections import Counter\n",
        "X.shape\n",
        "print(sorted(Counter(X['y']).items()))"
      ],
      "metadata": {
        "colab": {
          "base_uri": "https://localhost:8080/"
        },
        "id": "3Q2RFk_ZPUYS",
        "outputId": "f5331754-acf5-46e3-ada7-e8dd0e8705b1"
      },
      "execution_count": null,
      "outputs": [
        {
          "output_type": "stream",
          "name": "stdout",
          "text": [
            "[('1', 699), ('2', 356)]\n"
          ]
        },
        {
          "output_type": "stream",
          "name": "stderr",
          "text": [
            "/usr/local/lib/python3.10/dist-packages/sklearn/datasets/_openml.py:968: FutureWarning: The default value of `parser` will change from `'liac-arff'` to `'auto'` in 1.4. You can set `parser='auto'` to silence this warning. Therefore, an `ImportError` will be raised from 1.4 if the dataset is dense and pandas is not installed. Note that the pandas parser may return different data types. See the Notes Section in fetch_openml's API doc for details.\n",
            "  warn(\n"
          ]
        }
      ]
    },
    {
      "cell_type": "code",
      "source": [
        "# Prepping for oversampling test #6\n",
        "X, y = fetch_openml('qsar-biodeg', return_X_y=True)\n",
        "df = X\n",
        "df['y'] = y\n",
        "\n",
        "Y = X['y']\n",
        "Y\n",
        "\n",
        "#OVERSAMPLING\n",
        "from imblearn import under_sampling, over_sampling\n",
        "from imblearn.over_sampling import RandomOverSampler\n",
        "ros = RandomOverSampler(random_state=0)\n",
        "X_resampled, y_resampled = ros.fit_resample(X, Y)\n",
        "print(sorted(Counter(y_resampled).items()),y_resampled.shape)\n",
        "X_resampled['y'].value_counts()"
      ],
      "metadata": {
        "colab": {
          "base_uri": "https://localhost:8080/"
        },
        "id": "mzi_QF2egaJx",
        "outputId": "9d6e79da-a7a2-4f28-ae38-df3393f6132a"
      },
      "execution_count": null,
      "outputs": [
        {
          "output_type": "stream",
          "name": "stdout",
          "text": [
            "[('1', 699), ('2', 699)] (1398,)\n"
          ]
        },
        {
          "output_type": "stream",
          "name": "stderr",
          "text": [
            "/usr/local/lib/python3.10/dist-packages/sklearn/datasets/_openml.py:968: FutureWarning: The default value of `parser` will change from `'liac-arff'` to `'auto'` in 1.4. You can set `parser='auto'` to silence this warning. Therefore, an `ImportError` will be raised from 1.4 if the dataset is dense and pandas is not installed. Note that the pandas parser may return different data types. See the Notes Section in fetch_openml's API doc for details.\n",
            "  warn(\n"
          ]
        },
        {
          "output_type": "execute_result",
          "data": {
            "text/plain": [
              "1    699\n",
              "2    699\n",
              "Name: y, dtype: int64"
            ]
          },
          "metadata": {},
          "execution_count": 16
        }
      ]
    },
    {
      "cell_type": "code",
      "source": [
        "#Oversampling 10-fold-Crossvalidation part 2 #7\n",
        "##Decision Tree Classifier\n",
        "import pandas as pd\n",
        "from sklearn.tree import DecisionTreeClassifier\n",
        "from sklearn.datasets import make_classification\n",
        "from sklearn.model_selection import train_test_split\n",
        "X__resampled_train, X_resampled_test, y_resampled_train, y_resampled_test = train_test_split(X_resampled, y_resampled, test_size=0.33)\n",
        "clf = DecisionTreeClassifier().fit(X_resampled_test, y_resampled_test)\n",
        "\n",
        "from sklearn.model_selection import cross_val_score\n",
        "scores_undersample_DT = cross_val_score(clf, X__resampled_train, y_resampled_train, cv=10)\n",
        "scores_undersample_DT\n",
        "\n",
        "#X, y = fetch_openml('qsar-biodeg', return_X_y=True)\n",
        "#X_train, X_test, y_train, y_test = train_test_split(X, y, test_size=0.33)\n",
        "#clf = DecisionTreeClassifier().fit(X_test, y_test)\n",
        "#from sklearn.model_selection import cross_val_score\n",
        "#scoresDT = cross_val_score(clf, X_train, y_train, cv=10)\n",
        "#scoresDT"
      ],
      "metadata": {
        "colab": {
          "base_uri": "https://localhost:8080/"
        },
        "id": "--WdI1Yggw2m",
        "outputId": "eec67fe8-2ad9-4ed0-84e6-586683a76dba"
      },
      "execution_count": null,
      "outputs": [
        {
          "output_type": "execute_result",
          "data": {
            "text/plain": [
              "array([1., 1., 1., 1., 1., 1., 1., 1., 1., 1.])"
            ]
          },
          "metadata": {},
          "execution_count": 17
        }
      ]
    },
    {
      "cell_type": "code",
      "source": [
        "# Getting the AUC for Oversampling Decision Tree Classifier\n",
        "from sklearn.metrics import roc_auc_score\n",
        "#cross_val_score(clf, X__resampled_train, y_resampled_train, cv=10, scoring='roc_auc_ovo').mean()\n",
        "cross_val_score(clf, X__resampled_train, y_resampled_train, cv=10, scoring='roc_auc_ovo').var()"
      ],
      "metadata": {
        "id": "zIp0Er-AxBg_",
        "outputId": "fadc0cef-c9cb-4681-fb80-1cc00b3a4128",
        "colab": {
          "base_uri": "https://localhost:8080/"
        }
      },
      "execution_count": null,
      "outputs": [
        {
          "output_type": "execute_result",
          "data": {
            "text/plain": [
              "0.0"
            ]
          },
          "metadata": {},
          "execution_count": 18
        }
      ]
    },
    {
      "cell_type": "code",
      "source": [
        "Y_test_pred.shape"
      ],
      "metadata": {
        "colab": {
          "base_uri": "https://localhost:8080/"
        },
        "id": "vjuYTk6VtPOD",
        "outputId": "9885c069-5666-494a-a30b-88c1861adeb8"
      },
      "execution_count": null,
      "outputs": [
        {
          "output_type": "execute_result",
          "data": {
            "text/plain": [
              "(462,)"
            ]
          },
          "metadata": {},
          "execution_count": 79
        }
      ]
    },
    {
      "cell_type": "code",
      "source": [
        "#Getting the data for the oversampling decision tree classifier\n",
        "Y_test_pred = clf.predict(X_resampled_test)\n",
        "from sklearn.metrics import classification_report\n",
        "print(classification_report(y_resampled_test, Y_test_pred))"
      ],
      "metadata": {
        "colab": {
          "base_uri": "https://localhost:8080/"
        },
        "id": "1qenCc498sd1",
        "outputId": "73f270e6-0046-48af-e704-3bd1bd4df892"
      },
      "execution_count": null,
      "outputs": [
        {
          "output_type": "stream",
          "name": "stdout",
          "text": [
            "              precision    recall  f1-score   support\n",
            "\n",
            "           1       1.00      1.00      1.00       229\n",
            "           2       1.00      1.00      1.00       233\n",
            "\n",
            "    accuracy                           1.00       462\n",
            "   macro avg       1.00      1.00      1.00       462\n",
            "weighted avg       1.00      1.00      1.00       462\n",
            "\n"
          ]
        }
      ]
    },
    {
      "cell_type": "code",
      "source": [
        "# Getting the GMean for the oversampling decision tree classifier\n",
        "from imblearn.metrics import geometric_mean_score\n",
        "geometric_mean_score(y_resampled_test, Y_test_pred)"
      ],
      "metadata": {
        "id": "olSiHrwFWOlc",
        "outputId": "3877b1a0-42a0-48c5-e816-c9af5a01481c",
        "colab": {
          "base_uri": "https://localhost:8080/"
        }
      },
      "execution_count": null,
      "outputs": [
        {
          "output_type": "execute_result",
          "data": {
            "text/plain": [
              "1.0"
            ]
          },
          "metadata": {},
          "execution_count": 20
        }
      ]
    },
    {
      "cell_type": "code",
      "source": [
        "X #just a quick check to see what X is"
      ],
      "metadata": {
        "id": "HLBPFB54RQHk"
      },
      "execution_count": null,
      "outputs": []
    },
    {
      "cell_type": "code",
      "source": [
        "#Oversampling 10fold cross validation\n",
        "##MLP\n",
        "#Prep\n",
        "X, y = fetch_openml('qsar-biodeg', return_X_y=True)\n",
        "df = X\n",
        "df['y'] = y\n",
        "\n",
        "Y = X['y']\n",
        "Y\n",
        "\n",
        "#OVERSAMPLING\n",
        "from imblearn import under_sampling, over_sampling\n",
        "from imblearn.over_sampling import RandomOverSampler\n",
        "ros = RandomOverSampler(random_state=0)\n",
        "X_resampled, y_resampled = ros.fit_resample(X, Y)\n",
        "print(sorted(Counter(y_resampled).items()),y_resampled.shape)\n",
        "X_resampled['y'].value_counts()"
      ],
      "metadata": {
        "colab": {
          "base_uri": "https://localhost:8080/"
        },
        "id": "T9JNVMSm1rUm",
        "outputId": "e047f4fb-e0e3-440a-ca46-d581aa2e89b8"
      },
      "execution_count": null,
      "outputs": [
        {
          "output_type": "stream",
          "name": "stdout",
          "text": [
            "[('1', 699), ('2', 699)] (1398,)\n"
          ]
        },
        {
          "output_type": "stream",
          "name": "stderr",
          "text": [
            "/usr/local/lib/python3.10/dist-packages/sklearn/datasets/_openml.py:968: FutureWarning: The default value of `parser` will change from `'liac-arff'` to `'auto'` in 1.4. You can set `parser='auto'` to silence this warning. Therefore, an `ImportError` will be raised from 1.4 if the dataset is dense and pandas is not installed. Note that the pandas parser may return different data types. See the Notes Section in fetch_openml's API doc for details.\n",
            "  warn(\n"
          ]
        },
        {
          "output_type": "execute_result",
          "data": {
            "text/plain": [
              "1    699\n",
              "2    699\n",
              "Name: y, dtype: int64"
            ]
          },
          "metadata": {},
          "execution_count": 21
        }
      ]
    },
    {
      "cell_type": "code",
      "source": [
        "X_resampled_train, X_resampled_test, y_resampled_train, y_resampled_test = train_test_split(X_resampled, y_resampled, test_size=0.33)\n",
        "X_resampled_train"
      ],
      "metadata": {
        "id": "xu3NovRQcBl6"
      },
      "execution_count": null,
      "outputs": []
    },
    {
      "cell_type": "code",
      "source": [
        "#CORRECTLY!!!!\n",
        "#Oversampling 10-fold crossvalidation part 2\n",
        "# MLP Classifier\n",
        "\n",
        "import pandas as pd\n",
        "from sklearn.neural_network import MLPClassifier\n",
        "from sklearn.datasets import make_classification\n",
        "from sklearn.model_selection import train_test_split\n",
        "X, y = fetch_openml('qsar-biodeg', return_X_y=True)\n",
        "X_train, X_test, y_train, y_test = train_test_split(X, y, test_size=0.33)\n",
        "X_resampled, y_resampled = ros.fit_resample(X, Y)\n",
        "\n",
        "X_resampled_train, X_resampled_test, y_resampled_train, y_resampled_test = train_test_split(X_resampled, y_resampled, test_size=0.33)\n",
        "clf = MLPClassifier(random_state=1, max_iter=1000).fit(X_resampled_train, y_resampled_train)\n",
        "from sklearn.model_selection import cross_val_score\n",
        "scoresMLP = cross_val_score(clf, X_resampled_train, y_resampled_train, cv=10)\n",
        "scoresMLP"
      ],
      "metadata": {
        "colab": {
          "base_uri": "https://localhost:8080/"
        },
        "id": "kyKCHTrIZarA",
        "outputId": "7e1ffcd0-576d-4c6a-e87f-5ad1d4a7ea79"
      },
      "execution_count": null,
      "outputs": [
        {
          "output_type": "stream",
          "name": "stderr",
          "text": [
            "/usr/local/lib/python3.10/dist-packages/sklearn/datasets/_openml.py:968: FutureWarning: The default value of `parser` will change from `'liac-arff'` to `'auto'` in 1.4. You can set `parser='auto'` to silence this warning. Therefore, an `ImportError` will be raised from 1.4 if the dataset is dense and pandas is not installed. Note that the pandas parser may return different data types. See the Notes Section in fetch_openml's API doc for details.\n",
            "  warn(\n"
          ]
        },
        {
          "output_type": "execute_result",
          "data": {
            "text/plain": [
              "array([0.90425532, 0.85106383, 0.90425532, 0.86170213, 0.87234043,\n",
              "       0.87234043, 0.84946237, 0.84946237, 0.82795699, 0.82795699])"
            ]
          },
          "metadata": {},
          "execution_count": 22
        }
      ]
    },
    {
      "cell_type": "code",
      "source": [
        "# Getting the AUC for Oversampling MLP Classifier\n",
        "from sklearn.metrics import roc_auc_score\n",
        "cross_val_score(clf, X_resampled_train, y_resampled_train, cv=10, scoring='roc_auc_ovo').mean()\n",
        "#cross_val_score(clf, X_resampled_train, y_resampled_train, cv=10, scoring='roc_auc_ovo').var()"
      ],
      "metadata": {
        "id": "vNuWUBA3yjY0",
        "outputId": "5bbdf5d2-e36d-4682-a6c1-061b86796f74",
        "colab": {
          "base_uri": "https://localhost:8080/"
        }
      },
      "execution_count": null,
      "outputs": [
        {
          "output_type": "execute_result",
          "data": {
            "text/plain": [
              "0.9321776526856536"
            ]
          },
          "metadata": {},
          "execution_count": 24
        }
      ]
    },
    {
      "cell_type": "code",
      "source": [
        "#Getting the data for the oversampling MLP classifier\n",
        "Y_test_pred = clf.predict(X_resampled_test)\n",
        "from sklearn.metrics import classification_report\n",
        "print(classification_report(y_resampled_test, Y_test_pred))"
      ],
      "metadata": {
        "colab": {
          "base_uri": "https://localhost:8080/"
        },
        "id": "MAD3xoXo_GL7",
        "outputId": "3777f4c3-0fc2-4578-c70e-e24336d8ac59"
      },
      "execution_count": null,
      "outputs": [
        {
          "output_type": "stream",
          "name": "stdout",
          "text": [
            "              precision    recall  f1-score   support\n",
            "\n",
            "           1       0.89      0.87      0.88       232\n",
            "           2       0.87      0.90      0.88       230\n",
            "\n",
            "    accuracy                           0.88       462\n",
            "   macro avg       0.88      0.88      0.88       462\n",
            "weighted avg       0.88      0.88      0.88       462\n",
            "\n"
          ]
        }
      ]
    },
    {
      "cell_type": "code",
      "source": [
        "# Getting the GMean for the oversampling MLP classifier\n",
        "from imblearn.metrics import geometric_mean_score\n",
        "geometric_mean_score(y_resampled_test, Y_test_pred)"
      ],
      "metadata": {
        "id": "NCJwWbb3W6v_",
        "outputId": "91ee1ec1-2b8a-41e9-e46a-fd898017bcf5",
        "colab": {
          "base_uri": "https://localhost:8080/"
        }
      },
      "execution_count": null,
      "outputs": [
        {
          "output_type": "execute_result",
          "data": {
            "text/plain": [
              "0.8808941552443337"
            ]
          },
          "metadata": {},
          "execution_count": 26
        }
      ]
    },
    {
      "cell_type": "code",
      "source": [
        "y_resampled_test"
      ],
      "metadata": {
        "colab": {
          "base_uri": "https://localhost:8080/"
        },
        "id": "JVVJz_gefA3Q",
        "outputId": "94539fb1-e705-4cdc-9727-26fc96fdc4ee"
      },
      "execution_count": null,
      "outputs": [
        {
          "output_type": "execute_result",
          "data": {
            "text/plain": [
              "899     2\n",
              "992     1\n",
              "1146    2\n",
              "451     1\n",
              "312     1\n",
              "       ..\n",
              "280     2\n",
              "1355    2\n",
              "149     2\n",
              "99      2\n",
              "1213    2\n",
              "Name: y, Length: 462, dtype: category\n",
              "Categories (2, object): ['1', '2']"
            ]
          },
          "metadata": {},
          "execution_count": 95
        }
      ]
    },
    {
      "cell_type": "code",
      "source": [
        "#Oversampling 10-fold-crossvalidation part 2\n",
        "#MLP Classifier\n",
        "\n",
        "import pandas as pd\n",
        "from sklearn.neural_network import MLPClassifier\n",
        "from sklearn.datasets import make_classification\n",
        "from sklearn.model_selection import train_test_split\n",
        "X, y = fetch_openml('qsar-biodeg', return_X_y=True)\n",
        "X_train, X_test, y_train, y_test = train_test_split(X, y, test_size=0.33)\n",
        "clf = MLPClassifier(random_state=1, max_iter=1000).fit(X_train, y_train)\n",
        "from sklearn.model_selection import cross_val_score\n",
        "scoresMLP = cross_val_score(clf, X_train, y_train, cv=10)\n",
        "scoresMLP\n"
      ],
      "metadata": {
        "colab": {
          "base_uri": "https://localhost:8080/"
        },
        "id": "EwzrpqlcVTI9",
        "outputId": "474c1c60-cd26-4585-e93e-a8599f0fcdfd"
      },
      "execution_count": null,
      "outputs": [
        {
          "output_type": "stream",
          "name": "stderr",
          "text": [
            "/usr/local/lib/python3.10/dist-packages/sklearn/datasets/_openml.py:968: FutureWarning: The default value of `parser` will change from `'liac-arff'` to `'auto'` in 1.4. You can set `parser='auto'` to silence this warning. Therefore, an `ImportError` will be raised from 1.4 if the dataset is dense and pandas is not installed. Note that the pandas parser may return different data types. See the Notes Section in fetch_openml's API doc for details.\n",
            "  warn(\n"
          ]
        },
        {
          "output_type": "execute_result",
          "data": {
            "text/plain": [
              "array([0.83098592, 0.85915493, 0.83098592, 0.83098592, 0.84507042,\n",
              "       0.84507042, 0.78571429, 0.8       , 0.85714286, 0.91428571])"
            ]
          },
          "metadata": {},
          "execution_count": 64
        }
      ]
    },
    {
      "cell_type": "code",
      "source": [
        "#UNDERSAMPLING\n",
        "#Prep\n",
        "X, y = fetch_openml('qsar-biodeg', return_X_y=True)\n",
        "df = X\n",
        "df['y'] = y\n",
        "\n",
        "Y = X['y']\n",
        "Y\n",
        "\n",
        "from imblearn.under_sampling import RandomUnderSampler\n",
        "from collections import Counter\n",
        "rus = RandomUnderSampler(random_state=0)\n",
        "X_resampled, y_resampled = rus.fit_resample(X, Y)\n",
        "print(sorted(Counter(y_resampled).items()),y_resampled.shape)\n",
        "X_resampled\n",
        "X_resampled['y'].value_counts()\n",
        "X_resampled"
      ],
      "metadata": {
        "id": "BWaanrqIgX5k"
      },
      "execution_count": null,
      "outputs": []
    },
    {
      "cell_type": "code",
      "source": [
        "#UNDERSAMPLING 10fold cross validation\n",
        "##Decision Tree Classifier\n",
        "import pandas as pd\n",
        "from sklearn.tree import DecisionTreeClassifier\n",
        "from sklearn.datasets import make_classification\n",
        "from sklearn.model_selection import train_test_split\n",
        "X__resampled_train, X_resampled_test, y_resampled_train, y_resampled_test = train_test_split(X_resampled, y_resampled, test_size=0.33)\n",
        "clf = DecisionTreeClassifier().fit(X_resampled_test, y_resampled_test)\n",
        "\n",
        "from sklearn.model_selection import cross_val_score\n",
        "scores_undersample_DT = cross_val_score(clf, X__resampled_train, y_resampled_train, cv=10)\n",
        "scores_undersample_DT\n",
        "\n",
        "#Getting the data for the undersampling decision tree classifier\n",
        "Y_test_pred = clf.predict(X_resampled_test)\n",
        "from sklearn.metrics import classification_report\n",
        "print(classification_report(y_resampled_test, Y_test_pred))"
      ],
      "metadata": {
        "id": "FXoaBRuvmXQg"
      },
      "execution_count": null,
      "outputs": []
    },
    {
      "cell_type": "code",
      "source": [
        "# Getting the AUC for Undersampling Decision Tree Classifier\n",
        "from sklearn.metrics import roc_auc_score\n",
        "#cross_val_score(clf, X__resampled_train, y_resampled_train, cv=10, scoring='roc_auc_ovo').mean()\n",
        "cross_val_score(clf, X__resampled_train, y_resampled_train, cv=10, scoring='roc_auc_ovo').var()"
      ],
      "metadata": {
        "id": "caEYaZuS0zxn",
        "outputId": "e96b2266-e409-4067-adfa-e7d664dd60d1",
        "colab": {
          "base_uri": "https://localhost:8080/"
        }
      },
      "execution_count": null,
      "outputs": [
        {
          "output_type": "execute_result",
          "data": {
            "text/plain": [
              "0.0"
            ]
          },
          "metadata": {},
          "execution_count": 35
        }
      ]
    },
    {
      "cell_type": "code",
      "source": [
        "# Getting the GMean for the Undersampling Decision Tree classifier\n",
        "from imblearn.metrics import geometric_mean_score\n",
        "geometric_mean_score(y_resampled_test, Y_test_pred)"
      ],
      "metadata": {
        "id": "C_90bv-8XK0S",
        "outputId": "0ec7f3dd-143e-4d62-8565-96af40e9f13b",
        "colab": {
          "base_uri": "https://localhost:8080/"
        }
      },
      "execution_count": null,
      "outputs": [
        {
          "output_type": "execute_result",
          "data": {
            "text/plain": [
              "1.0"
            ]
          },
          "metadata": {},
          "execution_count": 36
        }
      ]
    },
    {
      "cell_type": "code",
      "source": [
        "#UNDERSAMPLING 10fold cross validation\n",
        "##MLP (WRONG WAY!!!)\n",
        "from sklearn.neural_network import MLPClassifier\n",
        "from sklearn.datasets import make_classification\n",
        "from sklearn.model_selection import train_test_split\n",
        "X, y = make_classification(n_samples=100, random_state=1)\n",
        "X_train, X_test, y_train, y_test = train_test_split(X, y, stratify=y, random_state=1)\n",
        "clf = MLPClassifier(random_state=1, max_iter=300).fit(X_train, y_train)\n",
        "from sklearn.model_selection import cross_val_score\n",
        "scores = cross_val_score(clf, X_train, y_train, cv=10)\n",
        "scores\n",
        "#accuracyScores = cross_val_score(clf, X_train, y_train, cv=10, scoring='accuracy')\n",
        "#accuracyScores"
      ],
      "metadata": {
        "colab": {
          "base_uri": "https://localhost:8080/"
        },
        "id": "8XSXFLfLoD67",
        "outputId": "6b43c8a4-f4d8-4dd2-9a40-e56e90511db7"
      },
      "execution_count": null,
      "outputs": [
        {
          "output_type": "execute_result",
          "data": {
            "text/plain": [
              "array([1.        , 0.875     , 0.75      , 1.        , 0.875     ,\n",
              "       1.        , 0.85714286, 0.85714286, 0.85714286, 1.        ])"
            ]
          },
          "metadata": {},
          "execution_count": 34
        }
      ]
    },
    {
      "cell_type": "code",
      "source": [
        "#UNDERSAMPLING 10fold cross validation\n",
        "##MLP (THE RIGHT WAY!!!!)\n",
        "import pandas as pd\n",
        "from sklearn.neural_network import MLPClassifier\n",
        "from sklearn.datasets import make_classification\n",
        "from sklearn.model_selection import train_test_split\n",
        "X, y = fetch_openml('qsar-biodeg', return_X_y=True)\n",
        "X_train, X_test, y_train, y_test = train_test_split(X, y, test_size=0.33)\n",
        "clf = MLPClassifier(random_state=1, max_iter=1000).fit(X_train, y_train)\n",
        "from sklearn.model_selection import cross_val_score\n",
        "scoresMLP = cross_val_score(clf, X_train, y_train, cv=10)\n",
        "scoresMLP\n",
        "\n",
        "#Getting the data for the undersampling MLP\n",
        "Y_test_pred = clf.predict(X_resampled_test)\n",
        "from sklearn.metrics import classification_report\n",
        "print(classification_report(y_resampled_test, Y_test_pred))"
      ],
      "metadata": {
        "colab": {
          "base_uri": "https://localhost:8080/"
        },
        "id": "ny5ER_UjpJBF",
        "outputId": "34c7069d-8564-40ba-dc28-ad9da5c76b94"
      },
      "execution_count": null,
      "outputs": [
        {
          "output_type": "stream",
          "name": "stderr",
          "text": [
            "/usr/local/lib/python3.10/dist-packages/sklearn/datasets/_openml.py:968: FutureWarning: The default value of `parser` will change from `'liac-arff'` to `'auto'` in 1.4. You can set `parser='auto'` to silence this warning. Therefore, an `ImportError` will be raised from 1.4 if the dataset is dense and pandas is not installed. Note that the pandas parser may return different data types. See the Notes Section in fetch_openml's API doc for details.\n",
            "  warn(\n"
          ]
        },
        {
          "output_type": "execute_result",
          "data": {
            "text/plain": [
              "array([0.85915493, 0.81690141, 0.87323944, 0.88732394, 0.91549296,\n",
              "       0.78873239, 0.84285714, 0.82857143, 0.9       , 0.75714286])"
            ]
          },
          "metadata": {},
          "execution_count": 5
        }
      ]
    },
    {
      "cell_type": "code",
      "source": [
        "#UNDERSAMPLING 10fold cross validation\n",
        "##MLP (THE REAL DEAL!!! IGNORE THE OTHERS!!!)\n",
        "import pandas as pd\n",
        "from sklearn.neural_network import MLPClassifier\n",
        "from sklearn.datasets import make_classification\n",
        "from sklearn.model_selection import train_test_split\n",
        "X, y = fetch_openml('qsar-biodeg', return_X_y=True)\n",
        "X_resampled, y_resampled = ros.fit_resample(X, Y)\n",
        "\n",
        "X__resampled_train, X_resampled_test, y_resampled_train, y_resampled_test = train_test_split(X_resampled, y_resampled, test_size=0.33)\n",
        "clf = MLPClassifier(random_state=1, max_iter=1000).fit(X__resampled_train, y_resampled_train)\n",
        "from sklearn.model_selection import cross_val_score\n",
        "scoresMLP = cross_val_score(clf, X__resampled_train, y_resampled_train, cv=10)\n",
        "scoresMLP\n",
        "\n",
        "#Getting the data for the undersampling MLP\n",
        "Y_test_pred = clf.predict(X_resampled_test)\n",
        "from sklearn.metrics import classification_report\n",
        "print(classification_report(y_resampled_test, Y_test_pred))"
      ],
      "metadata": {
        "colab": {
          "base_uri": "https://localhost:8080/"
        },
        "id": "e36mDdHp14Pe",
        "outputId": "883ed7af-1d13-41c8-b6c9-32e4da52ba1c"
      },
      "execution_count": null,
      "outputs": [
        {
          "output_type": "stream",
          "name": "stderr",
          "text": [
            "/usr/local/lib/python3.10/dist-packages/sklearn/datasets/_openml.py:968: FutureWarning: The default value of `parser` will change from `'liac-arff'` to `'auto'` in 1.4. You can set `parser='auto'` to silence this warning. Therefore, an `ImportError` will be raised from 1.4 if the dataset is dense and pandas is not installed. Note that the pandas parser may return different data types. See the Notes Section in fetch_openml's API doc for details.\n",
            "  warn(\n"
          ]
        },
        {
          "output_type": "stream",
          "name": "stdout",
          "text": [
            "              precision    recall  f1-score   support\n",
            "\n",
            "           1       0.95      0.84      0.89       235\n",
            "           2       0.85      0.95      0.90       227\n",
            "\n",
            "    accuracy                           0.89       462\n",
            "   macro avg       0.90      0.89      0.89       462\n",
            "weighted avg       0.90      0.89      0.89       462\n",
            "\n"
          ]
        }
      ]
    },
    {
      "cell_type": "code",
      "source": [
        "# Getting the GMean for the Undersampling MLP\n",
        "from imblearn.metrics import geometric_mean_score\n",
        "geometric_mean_score(y_resampled_test, Y_test_pred)"
      ],
      "metadata": {
        "id": "3FrXCUqiYE6s",
        "outputId": "3063a189-f041-4541-ac5e-c3383bbbfeac",
        "colab": {
          "base_uri": "https://localhost:8080/"
        }
      },
      "execution_count": null,
      "outputs": [
        {
          "output_type": "execute_result",
          "data": {
            "text/plain": [
              "0.8931268154537291"
            ]
          },
          "metadata": {},
          "execution_count": 40
        }
      ]
    },
    {
      "cell_type": "code",
      "source": [
        "# Getting the AUC for Undersampling MLP\n",
        "from sklearn.metrics import roc_auc_score\n",
        "#cross_val_score(clf, X__resampled_train, y_resampled_train, cv=10, scoring='roc_auc_ovo').mean()\n",
        "cross_val_score(clf, X__resampled_train, y_resampled_train, cv=10, scoring='roc_auc_ovo').var()"
      ],
      "metadata": {
        "id": "gPh_3klOzk7L",
        "outputId": "ba755c9f-15de-4ee4-f9c5-009440d6a854",
        "colab": {
          "base_uri": "https://localhost:8080/"
        }
      },
      "execution_count": null,
      "outputs": [
        {
          "output_type": "execute_result",
          "data": {
            "text/plain": [
              "0.000723571796786446"
            ]
          },
          "metadata": {},
          "execution_count": 39
        }
      ]
    },
    {
      "cell_type": "code",
      "source": [
        "# Install SMOTE\n",
        "%pip install imblearn"
      ],
      "metadata": {
        "colab": {
          "base_uri": "https://localhost:8080/"
        },
        "id": "HfHzNeMgvLAF",
        "outputId": "f0ad3a65-e703-467c-83dc-dbdbe6c26bee"
      },
      "execution_count": null,
      "outputs": [
        {
          "output_type": "stream",
          "name": "stdout",
          "text": [
            "Looking in indexes: https://pypi.org/simple, https://us-python.pkg.dev/colab-wheels/public/simple/\n",
            "Collecting imblearn\n",
            "  Downloading imblearn-0.0-py2.py3-none-any.whl (1.9 kB)\n",
            "Requirement already satisfied: imbalanced-learn in /usr/local/lib/python3.10/dist-packages (from imblearn) (0.10.1)\n",
            "Requirement already satisfied: numpy>=1.17.3 in /usr/local/lib/python3.10/dist-packages (from imbalanced-learn->imblearn) (1.22.4)\n",
            "Requirement already satisfied: scipy>=1.3.2 in /usr/local/lib/python3.10/dist-packages (from imbalanced-learn->imblearn) (1.10.1)\n",
            "Requirement already satisfied: scikit-learn>=1.0.2 in /usr/local/lib/python3.10/dist-packages (from imbalanced-learn->imblearn) (1.2.2)\n",
            "Requirement already satisfied: joblib>=1.1.1 in /usr/local/lib/python3.10/dist-packages (from imbalanced-learn->imblearn) (1.2.0)\n",
            "Requirement already satisfied: threadpoolctl>=2.0.0 in /usr/local/lib/python3.10/dist-packages (from imbalanced-learn->imblearn) (3.1.0)\n",
            "Installing collected packages: imblearn\n",
            "Successfully installed imblearn-0.0\n"
          ]
        }
      ]
    },
    {
      "cell_type": "code",
      "source": [
        "#SMOTE Oversampling\n",
        "# Prepping the data\n",
        "X, y = fetch_openml('qsar-biodeg', return_X_y=True)\n",
        "df = X\n",
        "df['y'] = y\n",
        "X_train, X_test, y_train, y_test = train_test_split(X, y, test_size=0.33)\n",
        "\n",
        "#smote declaration\n",
        "from imblearn.over_sampling import SMOTE\n",
        "smote = SMOTE(random_state=2)\n",
        "X_train_res, y_train_res = smote.fit_resample(X_train.astype('float'), y_train.astype('float'))\n",
        "\n",
        "#Proof that SMOTE worked by comparing the original and after\n",
        "from collections import Counter\n",
        "print(\"Before :\", Counter(y_train))\n",
        "print(\"After :\", Counter(y_train_res))\n",
        "\n"
      ],
      "metadata": {
        "colab": {
          "base_uri": "https://localhost:8080/"
        },
        "id": "-wWb2co9tE6k",
        "outputId": "5b44ca80-3d5b-4b03-d2c1-f5d0573bdd4a"
      },
      "execution_count": null,
      "outputs": [
        {
          "output_type": "stream",
          "name": "stdout",
          "text": [
            "Before : Counter({'1': 478, '2': 228})\n",
            "After : Counter({2.0: 478, 1.0: 478})\n"
          ]
        },
        {
          "output_type": "stream",
          "name": "stderr",
          "text": [
            "/usr/local/lib/python3.10/dist-packages/sklearn/datasets/_openml.py:968: FutureWarning: The default value of `parser` will change from `'liac-arff'` to `'auto'` in 1.4. You can set `parser='auto'` to silence this warning. Therefore, an `ImportError` will be raised from 1.4 if the dataset is dense and pandas is not installed. Note that the pandas parser may return different data types. See the Notes Section in fetch_openml's API doc for details.\n",
            "  warn(\n"
          ]
        }
      ]
    },
    {
      "cell_type": "code",
      "source": [
        "y_train"
      ],
      "metadata": {
        "id": "5yUeZbfQn_pl"
      },
      "execution_count": null,
      "outputs": []
    },
    {
      "cell_type": "code",
      "source": [
        "#SMOTE Decision Tree Classifier (remember to run the previous segment before this!)\n",
        "import pandas as pd\n",
        "from sklearn.tree import DecisionTreeClassifier\n",
        "from sklearn.datasets import make_classification\n",
        "from sklearn.model_selection import train_test_split\n",
        "X__resampled_train, X_resampled_test, y_resampled_train, y_resampled_test = train_test_split(X_train_res, y_train_res, test_size=0.33)\n",
        "clf = DecisionTreeClassifier().fit(X_train_res, y_train_res)\n",
        "\n",
        "from sklearn.model_selection import cross_val_score\n",
        "scores_undersample_DT = cross_val_score(clf, X_train_res, y_train_res, cv=10)\n",
        "scores_undersample_DT\n",
        "\n",
        "#Getting the data for the SMOTE decision tree classifier\n",
        "Y_test_pred = clf.predict(X_resampled_test)\n",
        "from sklearn.metrics import classification_report\n",
        "print(classification_report(y_resampled_test, Y_test_pred))\n",
        "\n",
        "#Y_Test_Pred = clf.predict(X_test)\n",
        "#pd.crosstab(pd.Series(Y_Test_Pred, name = 'Predicted'),\n",
        "#            pd.Series(y_test['y'], name= 'Actual'))\n",
        "#from sklearn.metrics import classification_report\n",
        "#classification_report(y_test, Y_Test_Pred)"
      ],
      "metadata": {
        "colab": {
          "base_uri": "https://localhost:8080/"
        },
        "id": "0fGK7hC8z8-F",
        "outputId": "5c0ad6b3-9364-4f02-84a1-12ec583e6992"
      },
      "execution_count": null,
      "outputs": [
        {
          "output_type": "stream",
          "name": "stdout",
          "text": [
            "              precision    recall  f1-score   support\n",
            "\n",
            "         1.0       1.00      1.00      1.00       156\n",
            "         2.0       1.00      1.00      1.00       153\n",
            "\n",
            "    accuracy                           1.00       309\n",
            "   macro avg       1.00      1.00      1.00       309\n",
            "weighted avg       1.00      1.00      1.00       309\n",
            "\n"
          ]
        }
      ]
    },
    {
      "cell_type": "code",
      "source": [
        "# Getting the GMean for the SMOTE Decision Tree Classifier\n",
        "from imblearn.metrics import geometric_mean_score\n",
        "geometric_mean_score(y_resampled_test, Y_test_pred)"
      ],
      "metadata": {
        "id": "XXgTdMrKZnFr",
        "outputId": "e0f3789c-56c9-40e3-e930-c79682cafb6a",
        "colab": {
          "base_uri": "https://localhost:8080/"
        }
      },
      "execution_count": null,
      "outputs": [
        {
          "output_type": "execute_result",
          "data": {
            "text/plain": [
              "1.0"
            ]
          },
          "metadata": {},
          "execution_count": 43
        }
      ]
    },
    {
      "cell_type": "code",
      "source": [
        "# Getting the AUC for SMOTE Decision Tree Classifier\n",
        "from sklearn.metrics import roc_auc_score\n",
        "#cross_val_score(clf, X_train_res, y_train_res, cv=10, scoring='roc_auc_ovo').mean()\n",
        "cross_val_score(clf, X_train_res, y_train_res, cv=10, scoring='roc_auc_ovo').var()"
      ],
      "metadata": {
        "id": "caCopMuH1iky",
        "outputId": "cf772e46-c0fb-4a01-a515-d705ba6bcc0e",
        "colab": {
          "base_uri": "https://localhost:8080/"
        }
      },
      "execution_count": null,
      "outputs": [
        {
          "output_type": "execute_result",
          "data": {
            "text/plain": [
              "0.0"
            ]
          },
          "metadata": {},
          "execution_count": 49
        }
      ]
    },
    {
      "cell_type": "code",
      "source": [
        "X_train"
      ],
      "metadata": {
        "id": "S6elQxlkFXRF"
      },
      "execution_count": null,
      "outputs": []
    },
    {
      "cell_type": "code",
      "source": [
        "#SMOTE MLP (remember to run the previous previous segment before this!)\n",
        "import pandas as pd\n",
        "from sklearn.neural_network import MLPClassifier\n",
        "from sklearn.datasets import make_classification\n",
        "from sklearn.model_selection import train_test_split\n",
        "#X, y = fetch_openml('qsar-biodeg', return_X_y=True)\n",
        "#X_train, X_test, y_train, y_test = train_test_split(X, y, test_size=0.33)\n",
        "X__resampled_train, X_resampled_test, y_resampled_train, y_resampled_test = train_test_split(X_train_res, y_train_res, test_size=0.33)\n",
        "clf = MLPClassifier(random_state=1, max_iter=1000).fit(X_train_res, y_train_res)\n",
        "\n",
        "from sklearn.model_selection import cross_val_score\n",
        "scoresMLP = cross_val_score(clf, X_train_res, y_train_res, cv=10)\n",
        "scoresMLP\n",
        "\n",
        "#Getting the data for the SMOTE decision tree classifier\n",
        "Y_test_pred = clf.predict(X_resampled_test)\n",
        "from sklearn.metrics import classification_report\n",
        "print(classification_report(y_resampled_test, Y_test_pred))"
      ],
      "metadata": {
        "colab": {
          "base_uri": "https://localhost:8080/"
        },
        "id": "w7C_v0JJ1fB2",
        "outputId": "6aa799cb-0bde-4b4c-bcf6-5c74200599bd"
      },
      "execution_count": null,
      "outputs": [
        {
          "output_type": "stream",
          "name": "stdout",
          "text": [
            "              precision    recall  f1-score   support\n",
            "\n",
            "         1.0       1.00      1.00      1.00       166\n",
            "         2.0       1.00      1.00      1.00       150\n",
            "\n",
            "    accuracy                           1.00       316\n",
            "   macro avg       1.00      1.00      1.00       316\n",
            "weighted avg       1.00      1.00      1.00       316\n",
            "\n"
          ]
        }
      ]
    },
    {
      "cell_type": "code",
      "source": [
        "# Getting the GMean for the SMOTE MLP\n",
        "from imblearn.metrics import geometric_mean_score\n",
        "geometric_mean_score(y_resampled_test, Y_test_pred)"
      ],
      "metadata": {
        "id": "UWlI4UlpaHxY",
        "outputId": "b7266229-b457-43e8-f7f6-1e4afdc2c39c",
        "colab": {
          "base_uri": "https://localhost:8080/"
        }
      },
      "execution_count": null,
      "outputs": [
        {
          "output_type": "execute_result",
          "data": {
            "text/plain": [
              "1.0"
            ]
          },
          "metadata": {},
          "execution_count": 47
        }
      ]
    },
    {
      "cell_type": "code",
      "source": [
        "# Getting the AUC for SMOTE MLP\n",
        "from sklearn.metrics import roc_auc_score\n",
        "#cross_val_score(clf, X_train_res, y_train_res, cv=10, scoring='roc_auc_ovo').mean()\n",
        "cross_val_score(clf, X_train_res, y_train_res, cv=10, scoring='roc_auc_ovo').var()"
      ],
      "metadata": {
        "id": "s61gOez917Qc",
        "outputId": "b007a2c2-4c2d-4c7d-9bdc-ea6eacee29f7",
        "colab": {
          "base_uri": "https://localhost:8080/"
        }
      },
      "execution_count": null,
      "outputs": [
        {
          "output_type": "execute_result",
          "data": {
            "text/plain": [
              "0.0"
            ]
          },
          "metadata": {},
          "execution_count": 46
        }
      ]
    },
    {
      "cell_type": "code",
      "source": [
        "y_test"
      ],
      "metadata": {
        "colab": {
          "base_uri": "https://localhost:8080/",
          "height": 166
        },
        "id": "3XrcX6qpzrWw",
        "outputId": "94e845c4-7bb7-468d-cb6d-1703cf0d343e"
      },
      "execution_count": null,
      "outputs": [
        {
          "output_type": "error",
          "ename": "NameError",
          "evalue": "ignored",
          "traceback": [
            "\u001b[0;31m---------------------------------------------------------------------------\u001b[0m",
            "\u001b[0;31mNameError\u001b[0m                                 Traceback (most recent call last)",
            "\u001b[0;32m<ipython-input-1-27d3425f7a85>\u001b[0m in \u001b[0;36m<cell line: 1>\u001b[0;34m()\u001b[0m\n\u001b[0;32m----> 1\u001b[0;31m \u001b[0my_test\u001b[0m\u001b[0;34m\u001b[0m\u001b[0;34m\u001b[0m\u001b[0m\n\u001b[0m",
            "\u001b[0;31mNameError\u001b[0m: name 'y_test' is not defined"
          ]
        }
      ]
    }
  ]
}