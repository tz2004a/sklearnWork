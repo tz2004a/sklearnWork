{
  "nbformat": 4,
  "nbformat_minor": 0,
  "metadata": {
    "colab": {
      "provenance": [],
      "authorship_tag": "ABX9TyOTTNF3kVVwDSFyL+vOUAdc",
      "include_colab_link": true
    },
    "kernelspec": {
      "name": "python3",
      "display_name": "Python 3"
    },
    "language_info": {
      "name": "python"
    }
  },
  "cells": [
    {
      "cell_type": "markdown",
      "metadata": {
        "id": "view-in-github",
        "colab_type": "text"
      },
      "source": [
        "<a href=\"https://colab.research.google.com/github/tz2004a/speechToText/blob/main/Question_2_Oversampling_and_Undersampling2.ipynb\" target=\"_parent\"><img src=\"https://colab.research.google.com/assets/colab-badge.svg\" alt=\"Open In Colab\"/></a>"
      ]
    },
    {
      "cell_type": "code",
      "execution_count": null,
      "metadata": {
        "colab": {
          "base_uri": "https://localhost:8080/"
        },
        "id": "cRPyztQSftHN",
        "outputId": "311476fb-d9a3-496e-befd-7020bd88dad4"
      },
      "outputs": [
        {
          "output_type": "stream",
          "name": "stdout",
          "text": [
            "Looking in indexes: https://pypi.org/simple, https://us-python.pkg.dev/colab-wheels/public/simple/\n",
            "Requirement already satisfied: scikit-learn in /usr/local/lib/python3.10/dist-packages (1.2.2)\n",
            "Requirement already satisfied: numpy>=1.17.3 in /usr/local/lib/python3.10/dist-packages (from scikit-learn) (1.22.4)\n",
            "Requirement already satisfied: scipy>=1.3.2 in /usr/local/lib/python3.10/dist-packages (from scikit-learn) (1.10.1)\n",
            "Requirement already satisfied: joblib>=1.1.1 in /usr/local/lib/python3.10/dist-packages (from scikit-learn) (1.2.0)\n",
            "Requirement already satisfied: threadpoolctl>=2.0.0 in /usr/local/lib/python3.10/dist-packages (from scikit-learn) (3.1.0)\n"
          ]
        }
      ],
      "source": [
        "#1\n",
        "%pip install scikit-learn"
      ]
    },
    {
      "cell_type": "code",
      "source": [
        "#2\n",
        "import pandas as pd\n",
        "import numpy as np\n",
        "from sklearn import datasets\n",
        "from sklearn import svm\n",
        "from sklearn.datasets import fetch_openml\n",
        "X, y = fetch_openml('qsar-biodeg', return_X_y=True)\n",
        "df = X\n",
        "df['y'] = y\n",
        "X"
      ],
      "metadata": {
        "colab": {
          "base_uri": "https://localhost:8080/",
          "height": 478
        },
        "id": "wCn1g702gc5v",
        "outputId": "c1210c7c-cdf7-4d90-ed14-f52089318c91"
      },
      "execution_count": 130,
      "outputs": [
        {
          "output_type": "stream",
          "name": "stderr",
          "text": [
            "/usr/local/lib/python3.10/dist-packages/sklearn/datasets/_openml.py:968: FutureWarning: The default value of `parser` will change from `'liac-arff'` to `'auto'` in 1.4. You can set `parser='auto'` to silence this warning. Therefore, an `ImportError` will be raised from 1.4 if the dataset is dense and pandas is not installed. Note that the pandas parser may return different data types. See the Notes Section in fetch_openml's API doc for details.\n",
            "  warn(\n"
          ]
        },
        {
          "output_type": "execute_result",
          "data": {
            "text/plain": [
              "         V1      V2   V3   V4    V5   V6   V7    V8   V9  V10  ...  V33   V34  \\\n",
              "0     3.919  2.6909  0.0  0.0   0.0  0.0  0.0  31.4  2.0  0.0  ...  0.0   0.0   \n",
              "1     4.170  2.1144  0.0  0.0   0.0  0.0  0.0  30.8  1.0  1.0  ...  0.0   0.0   \n",
              "2     3.932  3.2512  0.0  0.0   0.0  0.0  0.0  26.7  2.0  4.0  ...  0.0   0.0   \n",
              "3     3.000  2.7098  0.0  0.0   0.0  0.0  0.0  20.0  0.0  2.0  ...  0.0   0.0   \n",
              "4     4.236  3.3944  0.0  0.0   0.0  0.0  0.0  29.4  2.0  4.0  ...  0.0   0.0   \n",
              "...     ...     ...  ...  ...   ...  ...  ...   ...  ...  ...  ...  ...   ...   \n",
              "1050  5.431  2.8955  0.0  0.0   0.0  2.0  0.0  32.1  4.0  1.0  ...  0.0   6.0   \n",
              "1051  5.287  3.3732  0.0  0.0   9.0  0.0  0.0  35.3  0.0  9.0  ...  0.0   3.0   \n",
              "1052  4.869  1.7670  0.0  1.0   9.0  0.0  5.0  44.4  0.0  4.0  ...  4.0  13.0   \n",
              "1053  5.158  1.6914  2.0  0.0  36.0  0.0  9.0  56.1  0.0  0.0  ...  1.0  16.0   \n",
              "1054  5.076  2.6588  2.0  0.0   0.0  0.0  4.0  54.5  0.0  0.0  ...  2.0   0.0   \n",
              "\n",
              "      V35    V36    V37  V38     V39  V40  V41  y  \n",
              "0     0.0  2.949  1.591  0.0   7.253  0.0  0.0  2  \n",
              "1     0.0  3.315  1.967  0.0   7.257  0.0  0.0  2  \n",
              "2     1.0  3.076  2.417  0.0   7.601  0.0  0.0  2  \n",
              "3     1.0  3.046  5.000  0.0   6.690  0.0  0.0  2  \n",
              "4     0.0  3.351  2.405  0.0   8.003  0.0  0.0  2  \n",
              "...   ...    ...    ...  ...     ...  ...  ... ..  \n",
              "1050  1.0  3.573  2.242  1.0   8.088  0.0  0.0  1  \n",
              "1051  0.0  3.787  3.083  3.0   9.278  0.0  0.0  1  \n",
              "1052  0.0  3.848  2.576  5.0   9.537  1.0  0.0  1  \n",
              "1053  0.0  5.808  2.055  8.0  11.055  0.0  1.0  1  \n",
              "1054  0.0  4.009  2.206  0.0   9.130  0.0  2.0  1  \n",
              "\n",
              "[1055 rows x 42 columns]"
            ],
            "text/html": [
              "\n",
              "  <div id=\"df-b34c078c-19eb-418c-bbf2-0b15327d4646\">\n",
              "    <div class=\"colab-df-container\">\n",
              "      <div>\n",
              "<style scoped>\n",
              "    .dataframe tbody tr th:only-of-type {\n",
              "        vertical-align: middle;\n",
              "    }\n",
              "\n",
              "    .dataframe tbody tr th {\n",
              "        vertical-align: top;\n",
              "    }\n",
              "\n",
              "    .dataframe thead th {\n",
              "        text-align: right;\n",
              "    }\n",
              "</style>\n",
              "<table border=\"1\" class=\"dataframe\">\n",
              "  <thead>\n",
              "    <tr style=\"text-align: right;\">\n",
              "      <th></th>\n",
              "      <th>V1</th>\n",
              "      <th>V2</th>\n",
              "      <th>V3</th>\n",
              "      <th>V4</th>\n",
              "      <th>V5</th>\n",
              "      <th>V6</th>\n",
              "      <th>V7</th>\n",
              "      <th>V8</th>\n",
              "      <th>V9</th>\n",
              "      <th>V10</th>\n",
              "      <th>...</th>\n",
              "      <th>V33</th>\n",
              "      <th>V34</th>\n",
              "      <th>V35</th>\n",
              "      <th>V36</th>\n",
              "      <th>V37</th>\n",
              "      <th>V38</th>\n",
              "      <th>V39</th>\n",
              "      <th>V40</th>\n",
              "      <th>V41</th>\n",
              "      <th>y</th>\n",
              "    </tr>\n",
              "  </thead>\n",
              "  <tbody>\n",
              "    <tr>\n",
              "      <th>0</th>\n",
              "      <td>3.919</td>\n",
              "      <td>2.6909</td>\n",
              "      <td>0.0</td>\n",
              "      <td>0.0</td>\n",
              "      <td>0.0</td>\n",
              "      <td>0.0</td>\n",
              "      <td>0.0</td>\n",
              "      <td>31.4</td>\n",
              "      <td>2.0</td>\n",
              "      <td>0.0</td>\n",
              "      <td>...</td>\n",
              "      <td>0.0</td>\n",
              "      <td>0.0</td>\n",
              "      <td>0.0</td>\n",
              "      <td>2.949</td>\n",
              "      <td>1.591</td>\n",
              "      <td>0.0</td>\n",
              "      <td>7.253</td>\n",
              "      <td>0.0</td>\n",
              "      <td>0.0</td>\n",
              "      <td>2</td>\n",
              "    </tr>\n",
              "    <tr>\n",
              "      <th>1</th>\n",
              "      <td>4.170</td>\n",
              "      <td>2.1144</td>\n",
              "      <td>0.0</td>\n",
              "      <td>0.0</td>\n",
              "      <td>0.0</td>\n",
              "      <td>0.0</td>\n",
              "      <td>0.0</td>\n",
              "      <td>30.8</td>\n",
              "      <td>1.0</td>\n",
              "      <td>1.0</td>\n",
              "      <td>...</td>\n",
              "      <td>0.0</td>\n",
              "      <td>0.0</td>\n",
              "      <td>0.0</td>\n",
              "      <td>3.315</td>\n",
              "      <td>1.967</td>\n",
              "      <td>0.0</td>\n",
              "      <td>7.257</td>\n",
              "      <td>0.0</td>\n",
              "      <td>0.0</td>\n",
              "      <td>2</td>\n",
              "    </tr>\n",
              "    <tr>\n",
              "      <th>2</th>\n",
              "      <td>3.932</td>\n",
              "      <td>3.2512</td>\n",
              "      <td>0.0</td>\n",
              "      <td>0.0</td>\n",
              "      <td>0.0</td>\n",
              "      <td>0.0</td>\n",
              "      <td>0.0</td>\n",
              "      <td>26.7</td>\n",
              "      <td>2.0</td>\n",
              "      <td>4.0</td>\n",
              "      <td>...</td>\n",
              "      <td>0.0</td>\n",
              "      <td>0.0</td>\n",
              "      <td>1.0</td>\n",
              "      <td>3.076</td>\n",
              "      <td>2.417</td>\n",
              "      <td>0.0</td>\n",
              "      <td>7.601</td>\n",
              "      <td>0.0</td>\n",
              "      <td>0.0</td>\n",
              "      <td>2</td>\n",
              "    </tr>\n",
              "    <tr>\n",
              "      <th>3</th>\n",
              "      <td>3.000</td>\n",
              "      <td>2.7098</td>\n",
              "      <td>0.0</td>\n",
              "      <td>0.0</td>\n",
              "      <td>0.0</td>\n",
              "      <td>0.0</td>\n",
              "      <td>0.0</td>\n",
              "      <td>20.0</td>\n",
              "      <td>0.0</td>\n",
              "      <td>2.0</td>\n",
              "      <td>...</td>\n",
              "      <td>0.0</td>\n",
              "      <td>0.0</td>\n",
              "      <td>1.0</td>\n",
              "      <td>3.046</td>\n",
              "      <td>5.000</td>\n",
              "      <td>0.0</td>\n",
              "      <td>6.690</td>\n",
              "      <td>0.0</td>\n",
              "      <td>0.0</td>\n",
              "      <td>2</td>\n",
              "    </tr>\n",
              "    <tr>\n",
              "      <th>4</th>\n",
              "      <td>4.236</td>\n",
              "      <td>3.3944</td>\n",
              "      <td>0.0</td>\n",
              "      <td>0.0</td>\n",
              "      <td>0.0</td>\n",
              "      <td>0.0</td>\n",
              "      <td>0.0</td>\n",
              "      <td>29.4</td>\n",
              "      <td>2.0</td>\n",
              "      <td>4.0</td>\n",
              "      <td>...</td>\n",
              "      <td>0.0</td>\n",
              "      <td>0.0</td>\n",
              "      <td>0.0</td>\n",
              "      <td>3.351</td>\n",
              "      <td>2.405</td>\n",
              "      <td>0.0</td>\n",
              "      <td>8.003</td>\n",
              "      <td>0.0</td>\n",
              "      <td>0.0</td>\n",
              "      <td>2</td>\n",
              "    </tr>\n",
              "    <tr>\n",
              "      <th>...</th>\n",
              "      <td>...</td>\n",
              "      <td>...</td>\n",
              "      <td>...</td>\n",
              "      <td>...</td>\n",
              "      <td>...</td>\n",
              "      <td>...</td>\n",
              "      <td>...</td>\n",
              "      <td>...</td>\n",
              "      <td>...</td>\n",
              "      <td>...</td>\n",
              "      <td>...</td>\n",
              "      <td>...</td>\n",
              "      <td>...</td>\n",
              "      <td>...</td>\n",
              "      <td>...</td>\n",
              "      <td>...</td>\n",
              "      <td>...</td>\n",
              "      <td>...</td>\n",
              "      <td>...</td>\n",
              "      <td>...</td>\n",
              "      <td>...</td>\n",
              "    </tr>\n",
              "    <tr>\n",
              "      <th>1050</th>\n",
              "      <td>5.431</td>\n",
              "      <td>2.8955</td>\n",
              "      <td>0.0</td>\n",
              "      <td>0.0</td>\n",
              "      <td>0.0</td>\n",
              "      <td>2.0</td>\n",
              "      <td>0.0</td>\n",
              "      <td>32.1</td>\n",
              "      <td>4.0</td>\n",
              "      <td>1.0</td>\n",
              "      <td>...</td>\n",
              "      <td>0.0</td>\n",
              "      <td>6.0</td>\n",
              "      <td>1.0</td>\n",
              "      <td>3.573</td>\n",
              "      <td>2.242</td>\n",
              "      <td>1.0</td>\n",
              "      <td>8.088</td>\n",
              "      <td>0.0</td>\n",
              "      <td>0.0</td>\n",
              "      <td>1</td>\n",
              "    </tr>\n",
              "    <tr>\n",
              "      <th>1051</th>\n",
              "      <td>5.287</td>\n",
              "      <td>3.3732</td>\n",
              "      <td>0.0</td>\n",
              "      <td>0.0</td>\n",
              "      <td>9.0</td>\n",
              "      <td>0.0</td>\n",
              "      <td>0.0</td>\n",
              "      <td>35.3</td>\n",
              "      <td>0.0</td>\n",
              "      <td>9.0</td>\n",
              "      <td>...</td>\n",
              "      <td>0.0</td>\n",
              "      <td>3.0</td>\n",
              "      <td>0.0</td>\n",
              "      <td>3.787</td>\n",
              "      <td>3.083</td>\n",
              "      <td>3.0</td>\n",
              "      <td>9.278</td>\n",
              "      <td>0.0</td>\n",
              "      <td>0.0</td>\n",
              "      <td>1</td>\n",
              "    </tr>\n",
              "    <tr>\n",
              "      <th>1052</th>\n",
              "      <td>4.869</td>\n",
              "      <td>1.7670</td>\n",
              "      <td>0.0</td>\n",
              "      <td>1.0</td>\n",
              "      <td>9.0</td>\n",
              "      <td>0.0</td>\n",
              "      <td>5.0</td>\n",
              "      <td>44.4</td>\n",
              "      <td>0.0</td>\n",
              "      <td>4.0</td>\n",
              "      <td>...</td>\n",
              "      <td>4.0</td>\n",
              "      <td>13.0</td>\n",
              "      <td>0.0</td>\n",
              "      <td>3.848</td>\n",
              "      <td>2.576</td>\n",
              "      <td>5.0</td>\n",
              "      <td>9.537</td>\n",
              "      <td>1.0</td>\n",
              "      <td>0.0</td>\n",
              "      <td>1</td>\n",
              "    </tr>\n",
              "    <tr>\n",
              "      <th>1053</th>\n",
              "      <td>5.158</td>\n",
              "      <td>1.6914</td>\n",
              "      <td>2.0</td>\n",
              "      <td>0.0</td>\n",
              "      <td>36.0</td>\n",
              "      <td>0.0</td>\n",
              "      <td>9.0</td>\n",
              "      <td>56.1</td>\n",
              "      <td>0.0</td>\n",
              "      <td>0.0</td>\n",
              "      <td>...</td>\n",
              "      <td>1.0</td>\n",
              "      <td>16.0</td>\n",
              "      <td>0.0</td>\n",
              "      <td>5.808</td>\n",
              "      <td>2.055</td>\n",
              "      <td>8.0</td>\n",
              "      <td>11.055</td>\n",
              "      <td>0.0</td>\n",
              "      <td>1.0</td>\n",
              "      <td>1</td>\n",
              "    </tr>\n",
              "    <tr>\n",
              "      <th>1054</th>\n",
              "      <td>5.076</td>\n",
              "      <td>2.6588</td>\n",
              "      <td>2.0</td>\n",
              "      <td>0.0</td>\n",
              "      <td>0.0</td>\n",
              "      <td>0.0</td>\n",
              "      <td>4.0</td>\n",
              "      <td>54.5</td>\n",
              "      <td>0.0</td>\n",
              "      <td>0.0</td>\n",
              "      <td>...</td>\n",
              "      <td>2.0</td>\n",
              "      <td>0.0</td>\n",
              "      <td>0.0</td>\n",
              "      <td>4.009</td>\n",
              "      <td>2.206</td>\n",
              "      <td>0.0</td>\n",
              "      <td>9.130</td>\n",
              "      <td>0.0</td>\n",
              "      <td>2.0</td>\n",
              "      <td>1</td>\n",
              "    </tr>\n",
              "  </tbody>\n",
              "</table>\n",
              "<p>1055 rows × 42 columns</p>\n",
              "</div>\n",
              "      <button class=\"colab-df-convert\" onclick=\"convertToInteractive('df-b34c078c-19eb-418c-bbf2-0b15327d4646')\"\n",
              "              title=\"Convert this dataframe to an interactive table.\"\n",
              "              style=\"display:none;\">\n",
              "        \n",
              "  <svg xmlns=\"http://www.w3.org/2000/svg\" height=\"24px\"viewBox=\"0 0 24 24\"\n",
              "       width=\"24px\">\n",
              "    <path d=\"M0 0h24v24H0V0z\" fill=\"none\"/>\n",
              "    <path d=\"M18.56 5.44l.94 2.06.94-2.06 2.06-.94-2.06-.94-.94-2.06-.94 2.06-2.06.94zm-11 1L8.5 8.5l.94-2.06 2.06-.94-2.06-.94L8.5 2.5l-.94 2.06-2.06.94zm10 10l.94 2.06.94-2.06 2.06-.94-2.06-.94-.94-2.06-.94 2.06-2.06.94z\"/><path d=\"M17.41 7.96l-1.37-1.37c-.4-.4-.92-.59-1.43-.59-.52 0-1.04.2-1.43.59L10.3 9.45l-7.72 7.72c-.78.78-.78 2.05 0 2.83L4 21.41c.39.39.9.59 1.41.59.51 0 1.02-.2 1.41-.59l7.78-7.78 2.81-2.81c.8-.78.8-2.07 0-2.86zM5.41 20L4 18.59l7.72-7.72 1.47 1.35L5.41 20z\"/>\n",
              "  </svg>\n",
              "      </button>\n",
              "      \n",
              "  <style>\n",
              "    .colab-df-container {\n",
              "      display:flex;\n",
              "      flex-wrap:wrap;\n",
              "      gap: 12px;\n",
              "    }\n",
              "\n",
              "    .colab-df-convert {\n",
              "      background-color: #E8F0FE;\n",
              "      border: none;\n",
              "      border-radius: 50%;\n",
              "      cursor: pointer;\n",
              "      display: none;\n",
              "      fill: #1967D2;\n",
              "      height: 32px;\n",
              "      padding: 0 0 0 0;\n",
              "      width: 32px;\n",
              "    }\n",
              "\n",
              "    .colab-df-convert:hover {\n",
              "      background-color: #E2EBFA;\n",
              "      box-shadow: 0px 1px 2px rgba(60, 64, 67, 0.3), 0px 1px 3px 1px rgba(60, 64, 67, 0.15);\n",
              "      fill: #174EA6;\n",
              "    }\n",
              "\n",
              "    [theme=dark] .colab-df-convert {\n",
              "      background-color: #3B4455;\n",
              "      fill: #D2E3FC;\n",
              "    }\n",
              "\n",
              "    [theme=dark] .colab-df-convert:hover {\n",
              "      background-color: #434B5C;\n",
              "      box-shadow: 0px 1px 3px 1px rgba(0, 0, 0, 0.15);\n",
              "      filter: drop-shadow(0px 1px 2px rgba(0, 0, 0, 0.3));\n",
              "      fill: #FFFFFF;\n",
              "    }\n",
              "  </style>\n",
              "\n",
              "      <script>\n",
              "        const buttonEl =\n",
              "          document.querySelector('#df-b34c078c-19eb-418c-bbf2-0b15327d4646 button.colab-df-convert');\n",
              "        buttonEl.style.display =\n",
              "          google.colab.kernel.accessAllowed ? 'block' : 'none';\n",
              "\n",
              "        async function convertToInteractive(key) {\n",
              "          const element = document.querySelector('#df-b34c078c-19eb-418c-bbf2-0b15327d4646');\n",
              "          const dataTable =\n",
              "            await google.colab.kernel.invokeFunction('convertToInteractive',\n",
              "                                                     [key], {});\n",
              "          if (!dataTable) return;\n",
              "\n",
              "          const docLinkHtml = 'Like what you see? Visit the ' +\n",
              "            '<a target=\"_blank\" href=https://colab.research.google.com/notebooks/data_table.ipynb>data table notebook</a>'\n",
              "            + ' to learn more about interactive tables.';\n",
              "          element.innerHTML = '';\n",
              "          dataTable['output_type'] = 'display_data';\n",
              "          await google.colab.output.renderOutput(dataTable, element);\n",
              "          const docLink = document.createElement('div');\n",
              "          docLink.innerHTML = docLinkHtml;\n",
              "          element.appendChild(docLink);\n",
              "        }\n",
              "      </script>\n",
              "    </div>\n",
              "  </div>\n",
              "  "
            ]
          },
          "metadata": {},
          "execution_count": 130
        }
      ]
    },
    {
      "cell_type": "code",
      "source": [
        "# Normal CrossVal Decision Tree (Control) (#3)\n",
        "import pandas as pd\n",
        "from sklearn.tree import DecisionTreeClassifier\n",
        "from sklearn.datasets import make_classification\n",
        "from sklearn.model_selection import train_test_split\n",
        "X, y = fetch_openml('qsar-biodeg', return_X_y=True)\n",
        "X_train, X_test, y_train, y_test = train_test_split(X, y, test_size=0.33)\n",
        "clf = DecisionTreeClassifier().fit(X_test, y_test)\n",
        "from sklearn.model_selection import cross_val_score\n",
        "scoresDT = cross_val_score(clf, X_train, y_train, cv=10)\n",
        "scoresDT"
      ],
      "metadata": {
        "colab": {
          "base_uri": "https://localhost:8080/"
        },
        "id": "7L_P3e1GiDD6",
        "outputId": "18e9a655-2994-4318-eb3b-4580975e8390"
      },
      "execution_count": 128,
      "outputs": [
        {
          "output_type": "stream",
          "name": "stderr",
          "text": [
            "/usr/local/lib/python3.10/dist-packages/sklearn/datasets/_openml.py:968: FutureWarning: The default value of `parser` will change from `'liac-arff'` to `'auto'` in 1.4. You can set `parser='auto'` to silence this warning. Therefore, an `ImportError` will be raised from 1.4 if the dataset is dense and pandas is not installed. Note that the pandas parser may return different data types. See the Notes Section in fetch_openml's API doc for details.\n",
            "  warn(\n"
          ]
        },
        {
          "output_type": "execute_result",
          "data": {
            "text/plain": [
              "array([0.74647887, 0.84507042, 0.83098592, 0.84507042, 0.8028169 ,\n",
              "       0.87323944, 0.8       , 0.82857143, 0.82857143, 0.82857143])"
            ]
          },
          "metadata": {},
          "execution_count": 128
        }
      ]
    },
    {
      "cell_type": "code",
      "source": [
        "#Getting the data for the Normal CrossVal Decision Tree (Control)\n",
        "Y_test_pred = clf.predict(X_test)\n",
        "from sklearn.metrics import classification_report\n",
        "print(classification_report(y_test, Y_test_pred))"
      ],
      "metadata": {
        "id": "bfrGCU-vx5QC"
      },
      "execution_count": null,
      "outputs": []
    },
    {
      "cell_type": "code",
      "source": [
        "# Normal CrossVal MLP (Control) (#4)\n",
        "#WORKING MLP\n",
        "import pandas as pd\n",
        "from sklearn.neural_network import MLPClassifier\n",
        "from sklearn.datasets import make_classification\n",
        "from sklearn.model_selection import train_test_split\n",
        "X, y = fetch_openml('qsar-biodeg', return_X_y=True)\n",
        "X_train, X_test, y_train, y_test = train_test_split(X, y, test_size=0.33)\n",
        "clf = MLPClassifier(random_state=1, max_iter=1000).fit(X_test, y_test)\n",
        "from sklearn.model_selection import cross_val_score\n",
        "scoresMLP = cross_val_score(clf, X_train, y_train, cv=10)\n",
        "scoresMLP\n",
        "#accuracyScores = cross_val_score(clf, X_train, y_train, cv=10, scoring='accuracy')\n",
        "#accuracyScores\n",
        "#errorScores = cross_val_score(clf, X_train, y_train, cv=10, scoring='neg_mean_absolute_error')\n",
        "#errorScores"
      ],
      "metadata": {
        "colab": {
          "base_uri": "https://localhost:8080/"
        },
        "id": "A7SiMQvmLECU",
        "outputId": "831f2894-8d5f-405f-8002-0487ebfab5df"
      },
      "execution_count": 131,
      "outputs": [
        {
          "output_type": "stream",
          "name": "stderr",
          "text": [
            "/usr/local/lib/python3.10/dist-packages/sklearn/datasets/_openml.py:968: FutureWarning: The default value of `parser` will change from `'liac-arff'` to `'auto'` in 1.4. You can set `parser='auto'` to silence this warning. Therefore, an `ImportError` will be raised from 1.4 if the dataset is dense and pandas is not installed. Note that the pandas parser may return different data types. See the Notes Section in fetch_openml's API doc for details.\n",
            "  warn(\n",
            "/usr/local/lib/python3.10/dist-packages/sklearn/neural_network/_multilayer_perceptron.py:686: ConvergenceWarning: Stochastic Optimizer: Maximum iterations (1000) reached and the optimization hasn't converged yet.\n",
            "  warnings.warn(\n"
          ]
        },
        {
          "output_type": "execute_result",
          "data": {
            "text/plain": [
              "array([0.92957746, 0.84507042, 0.87323944, 0.90140845, 0.83098592,\n",
              "       0.91549296, 0.85714286, 0.87142857, 0.84285714, 0.88571429])"
            ]
          },
          "metadata": {},
          "execution_count": 131
        }
      ]
    },
    {
      "cell_type": "code",
      "source": [
        "#Getting the data for the Normal CrossVal MLP (Control)\n",
        "Y_test_pred = clf.predict(X_test)\n",
        "from sklearn.metrics import classification_report\n",
        "print(classification_report(y_test, Y_test_pred))"
      ],
      "metadata": {
        "id": "5H8EfsKVyM4z",
        "outputId": "f532c001-8140-4ed2-c9fb-dd05dbc82a70",
        "colab": {
          "base_uri": "https://localhost:8080/"
        }
      },
      "execution_count": 132,
      "outputs": [
        {
          "output_type": "stream",
          "name": "stdout",
          "text": [
            "              precision    recall  f1-score   support\n",
            "\n",
            "           1       1.00      1.00      1.00       232\n",
            "           2       0.99      0.99      0.99       117\n",
            "\n",
            "    accuracy                           0.99       349\n",
            "   macro avg       0.99      0.99      0.99       349\n",
            "weighted avg       0.99      0.99      0.99       349\n",
            "\n"
          ]
        }
      ]
    },
    {
      "cell_type": "code",
      "source": [
        "# Reset the data (X) #5\n",
        "X, y = fetch_openml('qsar-biodeg', return_X_y=True)\n",
        "df = X\n",
        "df['y'] = y\n",
        "X\n",
        "\n",
        "# Original State of the Data\n",
        "from collections import Counter\n",
        "X.shape\n",
        "print(sorted(Counter(X['y']).items()))"
      ],
      "metadata": {
        "colab": {
          "base_uri": "https://localhost:8080/"
        },
        "id": "3Q2RFk_ZPUYS",
        "outputId": "9c718923-c809-469d-ed37-a595fcbf4cde"
      },
      "execution_count": 44,
      "outputs": [
        {
          "output_type": "stream",
          "name": "stdout",
          "text": [
            "[('1', 699), ('2', 356)]\n"
          ]
        },
        {
          "output_type": "stream",
          "name": "stderr",
          "text": [
            "/usr/local/lib/python3.10/dist-packages/sklearn/datasets/_openml.py:968: FutureWarning: The default value of `parser` will change from `'liac-arff'` to `'auto'` in 1.4. You can set `parser='auto'` to silence this warning. Therefore, an `ImportError` will be raised from 1.4 if the dataset is dense and pandas is not installed. Note that the pandas parser may return different data types. See the Notes Section in fetch_openml's API doc for details.\n",
            "  warn(\n"
          ]
        }
      ]
    },
    {
      "cell_type": "code",
      "source": [
        "# Prepping for oversampling test #6\n",
        "X, y = fetch_openml('qsar-biodeg', return_X_y=True)\n",
        "df = X\n",
        "df['y'] = y\n",
        "\n",
        "Y = X['y']\n",
        "Y\n",
        "\n",
        "#OVERSAMPLING\n",
        "from imblearn import under_sampling, over_sampling\n",
        "from imblearn.over_sampling import RandomOverSampler\n",
        "ros = RandomOverSampler(random_state=0)\n",
        "X_resampled, y_resampled = ros.fit_resample(X, Y)\n",
        "print(sorted(Counter(y_resampled).items()),y_resampled.shape)\n",
        "X_resampled['y'].value_counts()"
      ],
      "metadata": {
        "colab": {
          "base_uri": "https://localhost:8080/"
        },
        "id": "mzi_QF2egaJx",
        "outputId": "b13a4dcd-cbd4-49d3-96b9-1b55658c4fcf"
      },
      "execution_count": 50,
      "outputs": [
        {
          "output_type": "stream",
          "name": "stdout",
          "text": [
            "[('1', 699), ('2', 699)] (1398,)\n"
          ]
        },
        {
          "output_type": "stream",
          "name": "stderr",
          "text": [
            "/usr/local/lib/python3.10/dist-packages/sklearn/datasets/_openml.py:968: FutureWarning: The default value of `parser` will change from `'liac-arff'` to `'auto'` in 1.4. You can set `parser='auto'` to silence this warning. Therefore, an `ImportError` will be raised from 1.4 if the dataset is dense and pandas is not installed. Note that the pandas parser may return different data types. See the Notes Section in fetch_openml's API doc for details.\n",
            "  warn(\n"
          ]
        },
        {
          "output_type": "execute_result",
          "data": {
            "text/plain": [
              "1    699\n",
              "2    699\n",
              "Name: y, dtype: int64"
            ]
          },
          "metadata": {},
          "execution_count": 50
        }
      ]
    },
    {
      "cell_type": "code",
      "source": [
        "#Oversampling 10-fold-Crossvalidation part 2 #7\n",
        "##Decision Tree Classifier\n",
        "import pandas as pd\n",
        "from sklearn.tree import DecisionTreeClassifier\n",
        "from sklearn.datasets import make_classification\n",
        "from sklearn.model_selection import train_test_split\n",
        "X__resampled_train, X_resampled_test, y_resampled_train, y_resampled_test = train_test_split(X_resampled, y_resampled, test_size=0.33)\n",
        "clf = DecisionTreeClassifier().fit(X_resampled_test, y_resampled_test)\n",
        "\n",
        "from sklearn.model_selection import cross_val_score\n",
        "scores_undersample_DT = cross_val_score(clf, X__resampled_train, y_resampled_train, cv=10)\n",
        "scores_undersample_DT\n",
        "\n",
        "#X, y = fetch_openml('qsar-biodeg', return_X_y=True)\n",
        "#X_train, X_test, y_train, y_test = train_test_split(X, y, test_size=0.33)\n",
        "#clf = DecisionTreeClassifier().fit(X_test, y_test)\n",
        "#from sklearn.model_selection import cross_val_score\n",
        "#scoresDT = cross_val_score(clf, X_train, y_train, cv=10)\n",
        "#scoresDT"
      ],
      "metadata": {
        "colab": {
          "base_uri": "https://localhost:8080/"
        },
        "id": "--WdI1Yggw2m",
        "outputId": "db5b4e95-c95e-45f1-bb9c-f06f28699821"
      },
      "execution_count": 71,
      "outputs": [
        {
          "output_type": "execute_result",
          "data": {
            "text/plain": [
              "array([1., 1., 1., 1., 1., 1., 1., 1., 1., 1.])"
            ]
          },
          "metadata": {},
          "execution_count": 71
        }
      ]
    },
    {
      "cell_type": "code",
      "source": [
        "Y_test_pred.shape"
      ],
      "metadata": {
        "colab": {
          "base_uri": "https://localhost:8080/"
        },
        "id": "vjuYTk6VtPOD",
        "outputId": "9885c069-5666-494a-a30b-88c1861adeb8"
      },
      "execution_count": 79,
      "outputs": [
        {
          "output_type": "execute_result",
          "data": {
            "text/plain": [
              "(462,)"
            ]
          },
          "metadata": {},
          "execution_count": 79
        }
      ]
    },
    {
      "cell_type": "code",
      "source": [
        "#Getting the data for the oversampling decision tree classifier\n",
        "Y_test_pred = clf.predict(X_resampled_test)\n",
        "from sklearn.metrics import classification_report\n",
        "print(classification_report(y_resampled_test, Y_test_pred))"
      ],
      "metadata": {
        "colab": {
          "base_uri": "https://localhost:8080/"
        },
        "id": "1qenCc498sd1",
        "outputId": "74da11c8-b77a-4651-fe62-a2e2aabb7ab6"
      },
      "execution_count": 80,
      "outputs": [
        {
          "output_type": "stream",
          "name": "stdout",
          "text": [
            "              precision    recall  f1-score   support\n",
            "\n",
            "           1       0.91      0.90      0.90       226\n",
            "           2       0.90      0.92      0.91       236\n",
            "\n",
            "    accuracy                           0.91       462\n",
            "   macro avg       0.91      0.91      0.91       462\n",
            "weighted avg       0.91      0.91      0.91       462\n",
            "\n"
          ]
        }
      ]
    },
    {
      "cell_type": "code",
      "source": [
        "X #just a quick check to see what X is"
      ],
      "metadata": {
        "colab": {
          "base_uri": "https://localhost:8080/",
          "height": 424
        },
        "id": "HLBPFB54RQHk",
        "outputId": "7f2042f2-711a-45df-8bb8-850aae271e0e"
      },
      "execution_count": null,
      "outputs": [
        {
          "output_type": "execute_result",
          "data": {
            "text/plain": [
              "         V1      V2   V3   V4    V5   V6   V7    V8   V9  V10  ...  V32  V33  \\\n",
              "0     3.919  2.6909  0.0  0.0   0.0  0.0  0.0  31.4  2.0  0.0  ...  0.0  0.0   \n",
              "1     4.170  2.1144  0.0  0.0   0.0  0.0  0.0  30.8  1.0  1.0  ...  0.0  0.0   \n",
              "2     3.932  3.2512  0.0  0.0   0.0  0.0  0.0  26.7  2.0  4.0  ...  0.0  0.0   \n",
              "3     3.000  2.7098  0.0  0.0   0.0  0.0  0.0  20.0  0.0  2.0  ...  0.0  0.0   \n",
              "4     4.236  3.3944  0.0  0.0   0.0  0.0  0.0  29.4  2.0  4.0  ...  0.0  0.0   \n",
              "...     ...     ...  ...  ...   ...  ...  ...   ...  ...  ...  ...  ...  ...   \n",
              "1050  5.431  2.8955  0.0  0.0   0.0  2.0  0.0  32.1  4.0  1.0  ...  2.0  0.0   \n",
              "1051  5.287  3.3732  0.0  0.0   9.0  0.0  0.0  35.3  0.0  9.0  ...  0.0  0.0   \n",
              "1052  4.869  1.7670  0.0  1.0   9.0  0.0  5.0  44.4  0.0  4.0  ...  0.0  4.0   \n",
              "1053  5.158  1.6914  2.0  0.0  36.0  0.0  9.0  56.1  0.0  0.0  ...  0.0  1.0   \n",
              "1054  5.076  2.6588  2.0  0.0   0.0  0.0  4.0  54.5  0.0  0.0  ...  0.0  2.0   \n",
              "\n",
              "       V34  V35    V36    V37  V38     V39  V40  V41  \n",
              "0      0.0  0.0  2.949  1.591  0.0   7.253  0.0  0.0  \n",
              "1      0.0  0.0  3.315  1.967  0.0   7.257  0.0  0.0  \n",
              "2      0.0  1.0  3.076  2.417  0.0   7.601  0.0  0.0  \n",
              "3      0.0  1.0  3.046  5.000  0.0   6.690  0.0  0.0  \n",
              "4      0.0  0.0  3.351  2.405  0.0   8.003  0.0  0.0  \n",
              "...    ...  ...    ...    ...  ...     ...  ...  ...  \n",
              "1050   6.0  1.0  3.573  2.242  1.0   8.088  0.0  0.0  \n",
              "1051   3.0  0.0  3.787  3.083  3.0   9.278  0.0  0.0  \n",
              "1052  13.0  0.0  3.848  2.576  5.0   9.537  1.0  0.0  \n",
              "1053  16.0  0.0  5.808  2.055  8.0  11.055  0.0  1.0  \n",
              "1054   0.0  0.0  4.009  2.206  0.0   9.130  0.0  2.0  \n",
              "\n",
              "[1055 rows x 41 columns]"
            ],
            "text/html": [
              "\n",
              "  <div id=\"df-e09c921f-38a3-43ff-81b6-8df6c9cb0e20\">\n",
              "    <div class=\"colab-df-container\">\n",
              "      <div>\n",
              "<style scoped>\n",
              "    .dataframe tbody tr th:only-of-type {\n",
              "        vertical-align: middle;\n",
              "    }\n",
              "\n",
              "    .dataframe tbody tr th {\n",
              "        vertical-align: top;\n",
              "    }\n",
              "\n",
              "    .dataframe thead th {\n",
              "        text-align: right;\n",
              "    }\n",
              "</style>\n",
              "<table border=\"1\" class=\"dataframe\">\n",
              "  <thead>\n",
              "    <tr style=\"text-align: right;\">\n",
              "      <th></th>\n",
              "      <th>V1</th>\n",
              "      <th>V2</th>\n",
              "      <th>V3</th>\n",
              "      <th>V4</th>\n",
              "      <th>V5</th>\n",
              "      <th>V6</th>\n",
              "      <th>V7</th>\n",
              "      <th>V8</th>\n",
              "      <th>V9</th>\n",
              "      <th>V10</th>\n",
              "      <th>...</th>\n",
              "      <th>V32</th>\n",
              "      <th>V33</th>\n",
              "      <th>V34</th>\n",
              "      <th>V35</th>\n",
              "      <th>V36</th>\n",
              "      <th>V37</th>\n",
              "      <th>V38</th>\n",
              "      <th>V39</th>\n",
              "      <th>V40</th>\n",
              "      <th>V41</th>\n",
              "    </tr>\n",
              "  </thead>\n",
              "  <tbody>\n",
              "    <tr>\n",
              "      <th>0</th>\n",
              "      <td>3.919</td>\n",
              "      <td>2.6909</td>\n",
              "      <td>0.0</td>\n",
              "      <td>0.0</td>\n",
              "      <td>0.0</td>\n",
              "      <td>0.0</td>\n",
              "      <td>0.0</td>\n",
              "      <td>31.4</td>\n",
              "      <td>2.0</td>\n",
              "      <td>0.0</td>\n",
              "      <td>...</td>\n",
              "      <td>0.0</td>\n",
              "      <td>0.0</td>\n",
              "      <td>0.0</td>\n",
              "      <td>0.0</td>\n",
              "      <td>2.949</td>\n",
              "      <td>1.591</td>\n",
              "      <td>0.0</td>\n",
              "      <td>7.253</td>\n",
              "      <td>0.0</td>\n",
              "      <td>0.0</td>\n",
              "    </tr>\n",
              "    <tr>\n",
              "      <th>1</th>\n",
              "      <td>4.170</td>\n",
              "      <td>2.1144</td>\n",
              "      <td>0.0</td>\n",
              "      <td>0.0</td>\n",
              "      <td>0.0</td>\n",
              "      <td>0.0</td>\n",
              "      <td>0.0</td>\n",
              "      <td>30.8</td>\n",
              "      <td>1.0</td>\n",
              "      <td>1.0</td>\n",
              "      <td>...</td>\n",
              "      <td>0.0</td>\n",
              "      <td>0.0</td>\n",
              "      <td>0.0</td>\n",
              "      <td>0.0</td>\n",
              "      <td>3.315</td>\n",
              "      <td>1.967</td>\n",
              "      <td>0.0</td>\n",
              "      <td>7.257</td>\n",
              "      <td>0.0</td>\n",
              "      <td>0.0</td>\n",
              "    </tr>\n",
              "    <tr>\n",
              "      <th>2</th>\n",
              "      <td>3.932</td>\n",
              "      <td>3.2512</td>\n",
              "      <td>0.0</td>\n",
              "      <td>0.0</td>\n",
              "      <td>0.0</td>\n",
              "      <td>0.0</td>\n",
              "      <td>0.0</td>\n",
              "      <td>26.7</td>\n",
              "      <td>2.0</td>\n",
              "      <td>4.0</td>\n",
              "      <td>...</td>\n",
              "      <td>0.0</td>\n",
              "      <td>0.0</td>\n",
              "      <td>0.0</td>\n",
              "      <td>1.0</td>\n",
              "      <td>3.076</td>\n",
              "      <td>2.417</td>\n",
              "      <td>0.0</td>\n",
              "      <td>7.601</td>\n",
              "      <td>0.0</td>\n",
              "      <td>0.0</td>\n",
              "    </tr>\n",
              "    <tr>\n",
              "      <th>3</th>\n",
              "      <td>3.000</td>\n",
              "      <td>2.7098</td>\n",
              "      <td>0.0</td>\n",
              "      <td>0.0</td>\n",
              "      <td>0.0</td>\n",
              "      <td>0.0</td>\n",
              "      <td>0.0</td>\n",
              "      <td>20.0</td>\n",
              "      <td>0.0</td>\n",
              "      <td>2.0</td>\n",
              "      <td>...</td>\n",
              "      <td>0.0</td>\n",
              "      <td>0.0</td>\n",
              "      <td>0.0</td>\n",
              "      <td>1.0</td>\n",
              "      <td>3.046</td>\n",
              "      <td>5.000</td>\n",
              "      <td>0.0</td>\n",
              "      <td>6.690</td>\n",
              "      <td>0.0</td>\n",
              "      <td>0.0</td>\n",
              "    </tr>\n",
              "    <tr>\n",
              "      <th>4</th>\n",
              "      <td>4.236</td>\n",
              "      <td>3.3944</td>\n",
              "      <td>0.0</td>\n",
              "      <td>0.0</td>\n",
              "      <td>0.0</td>\n",
              "      <td>0.0</td>\n",
              "      <td>0.0</td>\n",
              "      <td>29.4</td>\n",
              "      <td>2.0</td>\n",
              "      <td>4.0</td>\n",
              "      <td>...</td>\n",
              "      <td>0.0</td>\n",
              "      <td>0.0</td>\n",
              "      <td>0.0</td>\n",
              "      <td>0.0</td>\n",
              "      <td>3.351</td>\n",
              "      <td>2.405</td>\n",
              "      <td>0.0</td>\n",
              "      <td>8.003</td>\n",
              "      <td>0.0</td>\n",
              "      <td>0.0</td>\n",
              "    </tr>\n",
              "    <tr>\n",
              "      <th>...</th>\n",
              "      <td>...</td>\n",
              "      <td>...</td>\n",
              "      <td>...</td>\n",
              "      <td>...</td>\n",
              "      <td>...</td>\n",
              "      <td>...</td>\n",
              "      <td>...</td>\n",
              "      <td>...</td>\n",
              "      <td>...</td>\n",
              "      <td>...</td>\n",
              "      <td>...</td>\n",
              "      <td>...</td>\n",
              "      <td>...</td>\n",
              "      <td>...</td>\n",
              "      <td>...</td>\n",
              "      <td>...</td>\n",
              "      <td>...</td>\n",
              "      <td>...</td>\n",
              "      <td>...</td>\n",
              "      <td>...</td>\n",
              "      <td>...</td>\n",
              "    </tr>\n",
              "    <tr>\n",
              "      <th>1050</th>\n",
              "      <td>5.431</td>\n",
              "      <td>2.8955</td>\n",
              "      <td>0.0</td>\n",
              "      <td>0.0</td>\n",
              "      <td>0.0</td>\n",
              "      <td>2.0</td>\n",
              "      <td>0.0</td>\n",
              "      <td>32.1</td>\n",
              "      <td>4.0</td>\n",
              "      <td>1.0</td>\n",
              "      <td>...</td>\n",
              "      <td>2.0</td>\n",
              "      <td>0.0</td>\n",
              "      <td>6.0</td>\n",
              "      <td>1.0</td>\n",
              "      <td>3.573</td>\n",
              "      <td>2.242</td>\n",
              "      <td>1.0</td>\n",
              "      <td>8.088</td>\n",
              "      <td>0.0</td>\n",
              "      <td>0.0</td>\n",
              "    </tr>\n",
              "    <tr>\n",
              "      <th>1051</th>\n",
              "      <td>5.287</td>\n",
              "      <td>3.3732</td>\n",
              "      <td>0.0</td>\n",
              "      <td>0.0</td>\n",
              "      <td>9.0</td>\n",
              "      <td>0.0</td>\n",
              "      <td>0.0</td>\n",
              "      <td>35.3</td>\n",
              "      <td>0.0</td>\n",
              "      <td>9.0</td>\n",
              "      <td>...</td>\n",
              "      <td>0.0</td>\n",
              "      <td>0.0</td>\n",
              "      <td>3.0</td>\n",
              "      <td>0.0</td>\n",
              "      <td>3.787</td>\n",
              "      <td>3.083</td>\n",
              "      <td>3.0</td>\n",
              "      <td>9.278</td>\n",
              "      <td>0.0</td>\n",
              "      <td>0.0</td>\n",
              "    </tr>\n",
              "    <tr>\n",
              "      <th>1052</th>\n",
              "      <td>4.869</td>\n",
              "      <td>1.7670</td>\n",
              "      <td>0.0</td>\n",
              "      <td>1.0</td>\n",
              "      <td>9.0</td>\n",
              "      <td>0.0</td>\n",
              "      <td>5.0</td>\n",
              "      <td>44.4</td>\n",
              "      <td>0.0</td>\n",
              "      <td>4.0</td>\n",
              "      <td>...</td>\n",
              "      <td>0.0</td>\n",
              "      <td>4.0</td>\n",
              "      <td>13.0</td>\n",
              "      <td>0.0</td>\n",
              "      <td>3.848</td>\n",
              "      <td>2.576</td>\n",
              "      <td>5.0</td>\n",
              "      <td>9.537</td>\n",
              "      <td>1.0</td>\n",
              "      <td>0.0</td>\n",
              "    </tr>\n",
              "    <tr>\n",
              "      <th>1053</th>\n",
              "      <td>5.158</td>\n",
              "      <td>1.6914</td>\n",
              "      <td>2.0</td>\n",
              "      <td>0.0</td>\n",
              "      <td>36.0</td>\n",
              "      <td>0.0</td>\n",
              "      <td>9.0</td>\n",
              "      <td>56.1</td>\n",
              "      <td>0.0</td>\n",
              "      <td>0.0</td>\n",
              "      <td>...</td>\n",
              "      <td>0.0</td>\n",
              "      <td>1.0</td>\n",
              "      <td>16.0</td>\n",
              "      <td>0.0</td>\n",
              "      <td>5.808</td>\n",
              "      <td>2.055</td>\n",
              "      <td>8.0</td>\n",
              "      <td>11.055</td>\n",
              "      <td>0.0</td>\n",
              "      <td>1.0</td>\n",
              "    </tr>\n",
              "    <tr>\n",
              "      <th>1054</th>\n",
              "      <td>5.076</td>\n",
              "      <td>2.6588</td>\n",
              "      <td>2.0</td>\n",
              "      <td>0.0</td>\n",
              "      <td>0.0</td>\n",
              "      <td>0.0</td>\n",
              "      <td>4.0</td>\n",
              "      <td>54.5</td>\n",
              "      <td>0.0</td>\n",
              "      <td>0.0</td>\n",
              "      <td>...</td>\n",
              "      <td>0.0</td>\n",
              "      <td>2.0</td>\n",
              "      <td>0.0</td>\n",
              "      <td>0.0</td>\n",
              "      <td>4.009</td>\n",
              "      <td>2.206</td>\n",
              "      <td>0.0</td>\n",
              "      <td>9.130</td>\n",
              "      <td>0.0</td>\n",
              "      <td>2.0</td>\n",
              "    </tr>\n",
              "  </tbody>\n",
              "</table>\n",
              "<p>1055 rows × 41 columns</p>\n",
              "</div>\n",
              "      <button class=\"colab-df-convert\" onclick=\"convertToInteractive('df-e09c921f-38a3-43ff-81b6-8df6c9cb0e20')\"\n",
              "              title=\"Convert this dataframe to an interactive table.\"\n",
              "              style=\"display:none;\">\n",
              "        \n",
              "  <svg xmlns=\"http://www.w3.org/2000/svg\" height=\"24px\"viewBox=\"0 0 24 24\"\n",
              "       width=\"24px\">\n",
              "    <path d=\"M0 0h24v24H0V0z\" fill=\"none\"/>\n",
              "    <path d=\"M18.56 5.44l.94 2.06.94-2.06 2.06-.94-2.06-.94-.94-2.06-.94 2.06-2.06.94zm-11 1L8.5 8.5l.94-2.06 2.06-.94-2.06-.94L8.5 2.5l-.94 2.06-2.06.94zm10 10l.94 2.06.94-2.06 2.06-.94-2.06-.94-.94-2.06-.94 2.06-2.06.94z\"/><path d=\"M17.41 7.96l-1.37-1.37c-.4-.4-.92-.59-1.43-.59-.52 0-1.04.2-1.43.59L10.3 9.45l-7.72 7.72c-.78.78-.78 2.05 0 2.83L4 21.41c.39.39.9.59 1.41.59.51 0 1.02-.2 1.41-.59l7.78-7.78 2.81-2.81c.8-.78.8-2.07 0-2.86zM5.41 20L4 18.59l7.72-7.72 1.47 1.35L5.41 20z\"/>\n",
              "  </svg>\n",
              "      </button>\n",
              "      \n",
              "  <style>\n",
              "    .colab-df-container {\n",
              "      display:flex;\n",
              "      flex-wrap:wrap;\n",
              "      gap: 12px;\n",
              "    }\n",
              "\n",
              "    .colab-df-convert {\n",
              "      background-color: #E8F0FE;\n",
              "      border: none;\n",
              "      border-radius: 50%;\n",
              "      cursor: pointer;\n",
              "      display: none;\n",
              "      fill: #1967D2;\n",
              "      height: 32px;\n",
              "      padding: 0 0 0 0;\n",
              "      width: 32px;\n",
              "    }\n",
              "\n",
              "    .colab-df-convert:hover {\n",
              "      background-color: #E2EBFA;\n",
              "      box-shadow: 0px 1px 2px rgba(60, 64, 67, 0.3), 0px 1px 3px 1px rgba(60, 64, 67, 0.15);\n",
              "      fill: #174EA6;\n",
              "    }\n",
              "\n",
              "    [theme=dark] .colab-df-convert {\n",
              "      background-color: #3B4455;\n",
              "      fill: #D2E3FC;\n",
              "    }\n",
              "\n",
              "    [theme=dark] .colab-df-convert:hover {\n",
              "      background-color: #434B5C;\n",
              "      box-shadow: 0px 1px 3px 1px rgba(0, 0, 0, 0.15);\n",
              "      filter: drop-shadow(0px 1px 2px rgba(0, 0, 0, 0.3));\n",
              "      fill: #FFFFFF;\n",
              "    }\n",
              "  </style>\n",
              "\n",
              "      <script>\n",
              "        const buttonEl =\n",
              "          document.querySelector('#df-e09c921f-38a3-43ff-81b6-8df6c9cb0e20 button.colab-df-convert');\n",
              "        buttonEl.style.display =\n",
              "          google.colab.kernel.accessAllowed ? 'block' : 'none';\n",
              "\n",
              "        async function convertToInteractive(key) {\n",
              "          const element = document.querySelector('#df-e09c921f-38a3-43ff-81b6-8df6c9cb0e20');\n",
              "          const dataTable =\n",
              "            await google.colab.kernel.invokeFunction('convertToInteractive',\n",
              "                                                     [key], {});\n",
              "          if (!dataTable) return;\n",
              "\n",
              "          const docLinkHtml = 'Like what you see? Visit the ' +\n",
              "            '<a target=\"_blank\" href=https://colab.research.google.com/notebooks/data_table.ipynb>data table notebook</a>'\n",
              "            + ' to learn more about interactive tables.';\n",
              "          element.innerHTML = '';\n",
              "          dataTable['output_type'] = 'display_data';\n",
              "          await google.colab.output.renderOutput(dataTable, element);\n",
              "          const docLink = document.createElement('div');\n",
              "          docLink.innerHTML = docLinkHtml;\n",
              "          element.appendChild(docLink);\n",
              "        }\n",
              "      </script>\n",
              "    </div>\n",
              "  </div>\n",
              "  "
            ]
          },
          "metadata": {},
          "execution_count": 34
        }
      ]
    },
    {
      "cell_type": "code",
      "source": [
        "#Oversampling 10fold cross validation\n",
        "##MLP\n",
        "#Prep\n",
        "X, y = fetch_openml('qsar-biodeg', return_X_y=True)\n",
        "df = X\n",
        "df['y'] = y\n",
        "\n",
        "Y = X['y']\n",
        "Y\n",
        "\n",
        "#OVERSAMPLING\n",
        "from imblearn import under_sampling, over_sampling\n",
        "from imblearn.over_sampling import RandomOverSampler\n",
        "ros = RandomOverSampler(random_state=0)\n",
        "X_resampled, y_resampled = ros.fit_resample(X, Y)\n",
        "print(sorted(Counter(y_resampled).items()),y_resampled.shape)\n",
        "X_resampled['y'].value_counts()"
      ],
      "metadata": {
        "colab": {
          "base_uri": "https://localhost:8080/"
        },
        "id": "T9JNVMSm1rUm",
        "outputId": "2b19f38d-6fb7-41d3-9389-987bdc6c0a1d"
      },
      "execution_count": 81,
      "outputs": [
        {
          "output_type": "stream",
          "name": "stdout",
          "text": [
            "[('1', 699), ('2', 699)] (1398,)\n"
          ]
        },
        {
          "output_type": "stream",
          "name": "stderr",
          "text": [
            "/usr/local/lib/python3.10/dist-packages/sklearn/datasets/_openml.py:968: FutureWarning: The default value of `parser` will change from `'liac-arff'` to `'auto'` in 1.4. You can set `parser='auto'` to silence this warning. Therefore, an `ImportError` will be raised from 1.4 if the dataset is dense and pandas is not installed. Note that the pandas parser may return different data types. See the Notes Section in fetch_openml's API doc for details.\n",
            "  warn(\n"
          ]
        },
        {
          "output_type": "execute_result",
          "data": {
            "text/plain": [
              "1    699\n",
              "2    699\n",
              "Name: y, dtype: int64"
            ]
          },
          "metadata": {},
          "execution_count": 81
        }
      ]
    },
    {
      "cell_type": "code",
      "source": [
        "X_resampled_train, X_resampled_test, y_resampled_train, y_resampled_test = train_test_split(X_resampled, y_resampled, test_size=0.33)\n",
        "X_resampled_train"
      ],
      "metadata": {
        "id": "xu3NovRQcBl6"
      },
      "execution_count": null,
      "outputs": []
    },
    {
      "cell_type": "code",
      "source": [
        "#CORRECTLY!!!!\n",
        "#Oversampling 10-fold crossvalidation part 2\n",
        "# MLP Classifier\n",
        "\n",
        "import pandas as pd\n",
        "from sklearn.neural_network import MLPClassifier\n",
        "from sklearn.datasets import make_classification\n",
        "from sklearn.model_selection import train_test_split\n",
        "X, y = fetch_openml('qsar-biodeg', return_X_y=True)\n",
        "X_train, X_test, y_train, y_test = train_test_split(X, y, test_size=0.33)\n",
        "X_resampled, y_resampled = ros.fit_resample(X, Y)\n",
        "\n",
        "X_resampled_train, X_resampled_test, y_resampled_train, y_resampled_test = train_test_split(X_resampled, y_resampled, test_size=0.33)\n",
        "clf = MLPClassifier(random_state=1, max_iter=1000).fit(X_resampled_train, y_resampled_train)\n",
        "from sklearn.model_selection import cross_val_score\n",
        "scoresMLP = cross_val_score(clf, X_resampled_train, y_resampled_train, cv=10)\n",
        "scoresMLP"
      ],
      "metadata": {
        "colab": {
          "base_uri": "https://localhost:8080/"
        },
        "id": "kyKCHTrIZarA",
        "outputId": "4f9b3b48-f41c-45e8-9f97-454ed555f7ff"
      },
      "execution_count": 83,
      "outputs": [
        {
          "output_type": "stream",
          "name": "stderr",
          "text": [
            "/usr/local/lib/python3.10/dist-packages/sklearn/datasets/_openml.py:968: FutureWarning: The default value of `parser` will change from `'liac-arff'` to `'auto'` in 1.4. You can set `parser='auto'` to silence this warning. Therefore, an `ImportError` will be raised from 1.4 if the dataset is dense and pandas is not installed. Note that the pandas parser may return different data types. See the Notes Section in fetch_openml's API doc for details.\n",
            "  warn(\n"
          ]
        },
        {
          "output_type": "execute_result",
          "data": {
            "text/plain": [
              "array([0.92553191, 0.79787234, 0.89361702, 0.87234043, 0.89361702,\n",
              "       0.91489362, 0.87096774, 0.91397849, 0.88172043, 0.91397849])"
            ]
          },
          "metadata": {},
          "execution_count": 83
        }
      ]
    },
    {
      "cell_type": "code",
      "source": [
        "#Getting the data for the oversampling MLP classifier\n",
        "Y_test_pred = clf.predict(X_resampled_test)\n",
        "from sklearn.metrics import classification_report\n",
        "print(classification_report(y_resampled_test, Y_test_pred))"
      ],
      "metadata": {
        "colab": {
          "base_uri": "https://localhost:8080/"
        },
        "id": "MAD3xoXo_GL7",
        "outputId": "1dbf3139-a837-4f48-b2cf-ce195964ba8a"
      },
      "execution_count": 94,
      "outputs": [
        {
          "output_type": "stream",
          "name": "stdout",
          "text": [
            "              precision    recall  f1-score   support\n",
            "\n",
            "           1       1.00      1.00      1.00       213\n",
            "           2       1.00      1.00      1.00       249\n",
            "\n",
            "    accuracy                           1.00       462\n",
            "   macro avg       1.00      1.00      1.00       462\n",
            "weighted avg       1.00      1.00      1.00       462\n",
            "\n"
          ]
        }
      ]
    },
    {
      "cell_type": "code",
      "source": [
        "y_resampled_test"
      ],
      "metadata": {
        "colab": {
          "base_uri": "https://localhost:8080/"
        },
        "id": "JVVJz_gefA3Q",
        "outputId": "94539fb1-e705-4cdc-9727-26fc96fdc4ee"
      },
      "execution_count": 95,
      "outputs": [
        {
          "output_type": "execute_result",
          "data": {
            "text/plain": [
              "899     2\n",
              "992     1\n",
              "1146    2\n",
              "451     1\n",
              "312     1\n",
              "       ..\n",
              "280     2\n",
              "1355    2\n",
              "149     2\n",
              "99      2\n",
              "1213    2\n",
              "Name: y, Length: 462, dtype: category\n",
              "Categories (2, object): ['1', '2']"
            ]
          },
          "metadata": {},
          "execution_count": 95
        }
      ]
    },
    {
      "cell_type": "code",
      "source": [
        "#Oversampling 10-fold-crossvalidation part 2\n",
        "#MLP Classifier\n",
        "\n",
        "import pandas as pd\n",
        "from sklearn.neural_network import MLPClassifier\n",
        "from sklearn.datasets import make_classification\n",
        "from sklearn.model_selection import train_test_split\n",
        "X, y = fetch_openml('qsar-biodeg', return_X_y=True)\n",
        "X_train, X_test, y_train, y_test = train_test_split(X, y, test_size=0.33)\n",
        "clf = MLPClassifier(random_state=1, max_iter=1000).fit(X_train, y_train)\n",
        "from sklearn.model_selection import cross_val_score\n",
        "scoresMLP = cross_val_score(clf, X_train, y_train, cv=10)\n",
        "scoresMLP\n"
      ],
      "metadata": {
        "colab": {
          "base_uri": "https://localhost:8080/"
        },
        "id": "EwzrpqlcVTI9",
        "outputId": "474c1c60-cd26-4585-e93e-a8599f0fcdfd"
      },
      "execution_count": 64,
      "outputs": [
        {
          "output_type": "stream",
          "name": "stderr",
          "text": [
            "/usr/local/lib/python3.10/dist-packages/sklearn/datasets/_openml.py:968: FutureWarning: The default value of `parser` will change from `'liac-arff'` to `'auto'` in 1.4. You can set `parser='auto'` to silence this warning. Therefore, an `ImportError` will be raised from 1.4 if the dataset is dense and pandas is not installed. Note that the pandas parser may return different data types. See the Notes Section in fetch_openml's API doc for details.\n",
            "  warn(\n"
          ]
        },
        {
          "output_type": "execute_result",
          "data": {
            "text/plain": [
              "array([0.83098592, 0.85915493, 0.83098592, 0.83098592, 0.84507042,\n",
              "       0.84507042, 0.78571429, 0.8       , 0.85714286, 0.91428571])"
            ]
          },
          "metadata": {},
          "execution_count": 64
        }
      ]
    },
    {
      "cell_type": "code",
      "source": [
        "#UNDERSAMPLING\n",
        "#Prep\n",
        "X, y = fetch_openml('qsar-biodeg', return_X_y=True)\n",
        "df = X\n",
        "df['y'] = y\n",
        "\n",
        "Y = X['y']\n",
        "Y\n",
        "\n",
        "from imblearn.under_sampling import RandomUnderSampler\n",
        "from collections import Counter\n",
        "rus = RandomUnderSampler(random_state=0)\n",
        "X_resampled, y_resampled = rus.fit_resample(X, Y)\n",
        "print(sorted(Counter(y_resampled).items()),y_resampled.shape)\n",
        "X_resampled\n",
        "X_resampled['y'].value_counts()\n",
        "X_resampled"
      ],
      "metadata": {
        "id": "BWaanrqIgX5k"
      },
      "execution_count": null,
      "outputs": []
    },
    {
      "cell_type": "code",
      "source": [
        "#UNDERSAMPLING 10fold cross validation\n",
        "##Decision Tree Classifier\n",
        "import pandas as pd\n",
        "from sklearn.tree import DecisionTreeClassifier\n",
        "from sklearn.datasets import make_classification\n",
        "from sklearn.model_selection import train_test_split\n",
        "X__resampled_train, X_resampled_test, y_resampled_train, y_resampled_test = train_test_split(X_resampled, y_resampled, test_size=0.33)\n",
        "clf = DecisionTreeClassifier().fit(X_resampled_test, y_resampled_test)\n",
        "\n",
        "from sklearn.model_selection import cross_val_score\n",
        "scores_undersample_DT = cross_val_score(clf, X__resampled_train, y_resampled_train, cv=10)\n",
        "scores_undersample_DT\n",
        "\n",
        "#Getting the data for the undersampling decision tree classifier\n",
        "Y_test_pred = clf.predict(X_resampled_test)\n",
        "from sklearn.metrics import classification_report\n",
        "print(classification_report(y_resampled_test, Y_test_pred))"
      ],
      "metadata": {
        "colab": {
          "base_uri": "https://localhost:8080/"
        },
        "id": "FXoaBRuvmXQg",
        "outputId": "b1919730-453f-408e-d91b-91b7dcf02ce7"
      },
      "execution_count": 99,
      "outputs": [
        {
          "output_type": "stream",
          "name": "stdout",
          "text": [
            "              precision    recall  f1-score   support\n",
            "\n",
            "           1       1.00      1.00      1.00       118\n",
            "           2       1.00      1.00      1.00       117\n",
            "\n",
            "    accuracy                           1.00       235\n",
            "   macro avg       1.00      1.00      1.00       235\n",
            "weighted avg       1.00      1.00      1.00       235\n",
            "\n"
          ]
        }
      ]
    },
    {
      "cell_type": "code",
      "source": [
        "#UNDERSAMPLING 10fold cross validation\n",
        "##MLP (WRONG WAY!!!)\n",
        "from sklearn.neural_network import MLPClassifier\n",
        "from sklearn.datasets import make_classification\n",
        "from sklearn.model_selection import train_test_split\n",
        "X, y = make_classification(n_samples=100, random_state=1)\n",
        "X_train, X_test, y_train, y_test = train_test_split(X, y, stratify=y, random_state=1)\n",
        "clf = MLPClassifier(random_state=1, max_iter=300).fit(X_train, y_train)\n",
        "from sklearn.model_selection import cross_val_score\n",
        "scores = cross_val_score(clf, X_train, y_train, cv=10)\n",
        "scores\n",
        "#accuracyScores = cross_val_score(clf, X_train, y_train, cv=10, scoring='accuracy')\n",
        "#accuracyScores"
      ],
      "metadata": {
        "colab": {
          "base_uri": "https://localhost:8080/"
        },
        "id": "8XSXFLfLoD67",
        "outputId": "6b43c8a4-f4d8-4dd2-9a40-e56e90511db7"
      },
      "execution_count": null,
      "outputs": [
        {
          "output_type": "execute_result",
          "data": {
            "text/plain": [
              "array([1.        , 0.875     , 0.75      , 1.        , 0.875     ,\n",
              "       1.        , 0.85714286, 0.85714286, 0.85714286, 1.        ])"
            ]
          },
          "metadata": {},
          "execution_count": 34
        }
      ]
    },
    {
      "cell_type": "code",
      "source": [
        "#UNDERSAMPLING 10fold cross validation\n",
        "##MLP (THE RIGHT WAY!!!!)\n",
        "import pandas as pd\n",
        "from sklearn.neural_network import MLPClassifier\n",
        "from sklearn.datasets import make_classification\n",
        "from sklearn.model_selection import train_test_split\n",
        "X, y = fetch_openml('qsar-biodeg', return_X_y=True)\n",
        "X_train, X_test, y_train, y_test = train_test_split(X, y, test_size=0.33)\n",
        "clf = MLPClassifier(random_state=1, max_iter=1000).fit(X_train, y_train)\n",
        "from sklearn.model_selection import cross_val_score\n",
        "scoresMLP = cross_val_score(clf, X_train, y_train, cv=10)\n",
        "scoresMLP\n",
        "\n",
        "#Getting the data for the undersampling MLP\n",
        "Y_test_pred = clf.predict(X_resampled_test)\n",
        "from sklearn.metrics import classification_report\n",
        "print(classification_report(y_resampled_test, Y_test_pred))"
      ],
      "metadata": {
        "colab": {
          "base_uri": "https://localhost:8080/"
        },
        "id": "ny5ER_UjpJBF",
        "outputId": "34c7069d-8564-40ba-dc28-ad9da5c76b94"
      },
      "execution_count": 5,
      "outputs": [
        {
          "output_type": "stream",
          "name": "stderr",
          "text": [
            "/usr/local/lib/python3.10/dist-packages/sklearn/datasets/_openml.py:968: FutureWarning: The default value of `parser` will change from `'liac-arff'` to `'auto'` in 1.4. You can set `parser='auto'` to silence this warning. Therefore, an `ImportError` will be raised from 1.4 if the dataset is dense and pandas is not installed. Note that the pandas parser may return different data types. See the Notes Section in fetch_openml's API doc for details.\n",
            "  warn(\n"
          ]
        },
        {
          "output_type": "execute_result",
          "data": {
            "text/plain": [
              "array([0.85915493, 0.81690141, 0.87323944, 0.88732394, 0.91549296,\n",
              "       0.78873239, 0.84285714, 0.82857143, 0.9       , 0.75714286])"
            ]
          },
          "metadata": {},
          "execution_count": 5
        }
      ]
    },
    {
      "cell_type": "code",
      "source": [
        "#UNDERSAMPLING 10fold cross validation\n",
        "##MLP (THE REAL DEAL!!! IGNORE THE OTHERS!!!)\n",
        "import pandas as pd\n",
        "from sklearn.neural_network import MLPClassifier\n",
        "from sklearn.datasets import make_classification\n",
        "from sklearn.model_selection import train_test_split\n",
        "X, y = fetch_openml('qsar-biodeg', return_X_y=True)\n",
        "X_resampled, y_resampled = ros.fit_resample(X, Y)\n",
        "\n",
        "X__resampled_train, X_resampled_test, y_resampled_train, y_resampled_test = train_test_split(X_resampled, y_resampled, test_size=0.33)\n",
        "clf = MLPClassifier(random_state=1, max_iter=1000).fit(X__resampled_train, y_resampled_train)\n",
        "from sklearn.model_selection import cross_val_score\n",
        "scoresMLP = cross_val_score(clf, X__resampled_train, y_resampled_train, cv=10)\n",
        "scoresMLP\n",
        "\n",
        "#Getting the data for the undersampling MLP\n",
        "Y_test_pred = clf.predict(X_resampled_test)\n",
        "from sklearn.metrics import classification_report\n",
        "print(classification_report(y_resampled_test, Y_test_pred))"
      ],
      "metadata": {
        "colab": {
          "base_uri": "https://localhost:8080/"
        },
        "id": "e36mDdHp14Pe",
        "outputId": "2deee764-7c3a-4dbb-9106-c85b4f2e4f87"
      },
      "execution_count": 101,
      "outputs": [
        {
          "output_type": "stream",
          "name": "stderr",
          "text": [
            "/usr/local/lib/python3.10/dist-packages/sklearn/datasets/_openml.py:968: FutureWarning: The default value of `parser` will change from `'liac-arff'` to `'auto'` in 1.4. You can set `parser='auto'` to silence this warning. Therefore, an `ImportError` will be raised from 1.4 if the dataset is dense and pandas is not installed. Note that the pandas parser may return different data types. See the Notes Section in fetch_openml's API doc for details.\n",
            "  warn(\n"
          ]
        },
        {
          "output_type": "stream",
          "name": "stdout",
          "text": [
            "              precision    recall  f1-score   support\n",
            "\n",
            "           1       0.93      0.85      0.89       224\n",
            "           2       0.87      0.94      0.90       238\n",
            "\n",
            "    accuracy                           0.90       462\n",
            "   macro avg       0.90      0.89      0.90       462\n",
            "weighted avg       0.90      0.90      0.90       462\n",
            "\n"
          ]
        }
      ]
    },
    {
      "cell_type": "code",
      "source": [
        "# Install SMOTE\n",
        "%pip install imblearn"
      ],
      "metadata": {
        "colab": {
          "base_uri": "https://localhost:8080/"
        },
        "id": "HfHzNeMgvLAF",
        "outputId": "f0ad3a65-e703-467c-83dc-dbdbe6c26bee"
      },
      "execution_count": 10,
      "outputs": [
        {
          "output_type": "stream",
          "name": "stdout",
          "text": [
            "Looking in indexes: https://pypi.org/simple, https://us-python.pkg.dev/colab-wheels/public/simple/\n",
            "Collecting imblearn\n",
            "  Downloading imblearn-0.0-py2.py3-none-any.whl (1.9 kB)\n",
            "Requirement already satisfied: imbalanced-learn in /usr/local/lib/python3.10/dist-packages (from imblearn) (0.10.1)\n",
            "Requirement already satisfied: numpy>=1.17.3 in /usr/local/lib/python3.10/dist-packages (from imbalanced-learn->imblearn) (1.22.4)\n",
            "Requirement already satisfied: scipy>=1.3.2 in /usr/local/lib/python3.10/dist-packages (from imbalanced-learn->imblearn) (1.10.1)\n",
            "Requirement already satisfied: scikit-learn>=1.0.2 in /usr/local/lib/python3.10/dist-packages (from imbalanced-learn->imblearn) (1.2.2)\n",
            "Requirement already satisfied: joblib>=1.1.1 in /usr/local/lib/python3.10/dist-packages (from imbalanced-learn->imblearn) (1.2.0)\n",
            "Requirement already satisfied: threadpoolctl>=2.0.0 in /usr/local/lib/python3.10/dist-packages (from imbalanced-learn->imblearn) (3.1.0)\n",
            "Installing collected packages: imblearn\n",
            "Successfully installed imblearn-0.0\n"
          ]
        }
      ]
    },
    {
      "cell_type": "code",
      "source": [
        "#SMOTE Oversampling\n",
        "# Prepping the data\n",
        "X, y = fetch_openml('qsar-biodeg', return_X_y=True)\n",
        "df = X\n",
        "df['y'] = y\n",
        "X_train, X_test, y_train, y_test = train_test_split(X, y, test_size=0.33)\n",
        "\n",
        "#smote declaration\n",
        "from imblearn.over_sampling import SMOTE\n",
        "smote = SMOTE(random_state=2)\n",
        "X_train_res, y_train_res = smote.fit_resample(X_train.astype('float'), y_train.astype('float'))\n",
        "\n",
        "#Proof that SMOTE worked by comparing the original and after\n",
        "from collections import Counter\n",
        "print(\"Before :\", Counter(y_train))\n",
        "print(\"After :\", Counter(y_train_res))\n",
        "\n"
      ],
      "metadata": {
        "colab": {
          "base_uri": "https://localhost:8080/"
        },
        "id": "-wWb2co9tE6k",
        "outputId": "d2794af7-5a07-4d70-d361-bee70d23f272"
      },
      "execution_count": 125,
      "outputs": [
        {
          "output_type": "stream",
          "name": "stdout",
          "text": [
            "Before : Counter({'1': 475, '2': 231})\n",
            "After : Counter({2.0: 475, 1.0: 475})\n"
          ]
        },
        {
          "output_type": "stream",
          "name": "stderr",
          "text": [
            "/usr/local/lib/python3.10/dist-packages/sklearn/datasets/_openml.py:968: FutureWarning: The default value of `parser` will change from `'liac-arff'` to `'auto'` in 1.4. You can set `parser='auto'` to silence this warning. Therefore, an `ImportError` will be raised from 1.4 if the dataset is dense and pandas is not installed. Note that the pandas parser may return different data types. See the Notes Section in fetch_openml's API doc for details.\n",
            "  warn(\n"
          ]
        }
      ]
    },
    {
      "cell_type": "code",
      "source": [
        "y_train"
      ],
      "metadata": {
        "id": "5yUeZbfQn_pl"
      },
      "execution_count": null,
      "outputs": []
    },
    {
      "cell_type": "code",
      "source": [
        "#SMOTE Decision Tree Classifier (remember to run the previous segment before this!)\n",
        "import pandas as pd\n",
        "from sklearn.tree import DecisionTreeClassifier\n",
        "from sklearn.datasets import make_classification\n",
        "from sklearn.model_selection import train_test_split\n",
        "X__resampled_train, X_resampled_test, y_resampled_train, y_resampled_test = train_test_split(X_train_res, y_train_res, test_size=0.33)\n",
        "clf = DecisionTreeClassifier().fit(X_train_res, y_train_res)\n",
        "\n",
        "from sklearn.model_selection import cross_val_score\n",
        "scores_undersample_DT = cross_val_score(clf, X_train_res, y_train_res, cv=10)\n",
        "scores_undersample_DT\n",
        "\n",
        "#Getting the data for the SMOTE decision tree classifier\n",
        "Y_test_pred = clf.predict(X_resampled_test)\n",
        "from sklearn.metrics import classification_report\n",
        "print(classification_report(y_resampled_test, Y_test_pred))\n",
        "\n",
        "#Y_Test_Pred = clf.predict(X_test)\n",
        "#pd.crosstab(pd.Series(Y_Test_Pred, name = 'Predicted'),\n",
        "#            pd.Series(y_test['y'], name= 'Actual'))\n",
        "#from sklearn.metrics import classification_report\n",
        "#classification_report(y_test, Y_Test_Pred)"
      ],
      "metadata": {
        "colab": {
          "base_uri": "https://localhost:8080/"
        },
        "id": "0fGK7hC8z8-F",
        "outputId": "7744e833-0e62-4518-eebd-e4d33c876b62"
      },
      "execution_count": 123,
      "outputs": [
        {
          "output_type": "stream",
          "name": "stdout",
          "text": [
            "              precision    recall  f1-score   support\n",
            "\n",
            "         1.0       1.00      1.00      1.00       139\n",
            "         2.0       1.00      1.00      1.00       170\n",
            "\n",
            "    accuracy                           1.00       309\n",
            "   macro avg       1.00      1.00      1.00       309\n",
            "weighted avg       1.00      1.00      1.00       309\n",
            "\n"
          ]
        }
      ]
    },
    {
      "cell_type": "code",
      "source": [
        "X_train"
      ],
      "metadata": {
        "colab": {
          "base_uri": "https://localhost:8080/",
          "height": 424
        },
        "id": "S6elQxlkFXRF",
        "outputId": "c58f5b30-fd1a-40a7-ccc9-21c44d60dedd"
      },
      "execution_count": 111,
      "outputs": [
        {
          "output_type": "execute_result",
          "data": {
            "text/plain": [
              "        V1      V2   V3   V4    V5   V6   V7    V8   V9  V10  ...  V33   V34  \\\n",
              "543  3.802  2.6771  0.0  0.0   2.0  0.0  0.0  20.0  2.0  0.0  ...  0.0   4.0   \n",
              "79   4.607  3.0422  0.0  0.0   0.0  0.0  2.0  47.1  1.0  1.0  ...  0.0   0.0   \n",
              "588  5.013  1.8267  2.0  1.0  16.0  0.0  7.0  42.4  2.0  5.0  ...  4.0  13.0   \n",
              "919  5.323  4.4887  2.0  0.0   0.0  1.0  0.0  30.0  0.0  1.0  ...  0.0   2.0   \n",
              "447  4.975  3.2319  0.0  0.0   2.0  0.0  2.0  37.9  2.0  2.0  ...  1.0   0.0   \n",
              "..     ...     ...  ...  ...   ...  ...  ...   ...  ...  ...  ...  ...   ...   \n",
              "997  4.691  4.7731  0.0  0.0   4.0  0.0  0.0  26.9  4.0  4.0  ...  0.0   6.0   \n",
              "352  5.336  2.2280  2.0  0.0   4.0  0.0  2.0  58.3  0.0  2.0  ...  0.0   2.0   \n",
              "585  4.838  2.2234  0.0  0.0   2.0  0.0  0.0  33.3  0.0  0.0  ...  0.0   5.0   \n",
              "314  4.461  3.6265  0.0  0.0   8.0  0.0  0.0  25.7  0.0  0.0  ...  0.0   4.0   \n",
              "605  5.098  3.4015  0.0  0.0   0.0  1.0  0.0  26.1  4.0  1.0  ...  0.0   4.0   \n",
              "\n",
              "     V35    V36    V37  V38     V39  V40  V41  y  \n",
              "543  5.0  2.937  2.357  3.0   6.869  0.0  0.0  1  \n",
              "79   0.0  3.651  2.481  0.0   8.116  0.0  0.0  2  \n",
              "588  1.0  4.304  2.444  5.0   9.956  0.0  1.0  1  \n",
              "919  2.0  7.078  3.490  2.0  12.275  0.0  2.0  1  \n",
              "447  1.0  3.713  2.381  1.0   8.464  0.0  0.0  1  \n",
              "..   ...    ...    ...  ...     ...  ...  ... ..  \n",
              "997  4.0  3.321  2.517  2.0   8.334  0.0  0.0  1  \n",
              "352  0.0  4.238  2.800  2.0   9.511  0.0  0.0  1  \n",
              "585  0.0  3.502  1.697  2.0   7.886  0.0  0.0  1  \n",
              "314  0.0  3.216  1.833  3.0   7.767  0.0  0.0  1  \n",
              "605  2.0  3.271  2.344  1.0   7.383  0.0  0.0  1  \n",
              "\n",
              "[706 rows x 42 columns]"
            ],
            "text/html": [
              "\n",
              "  <div id=\"df-8a9e6954-f41c-4436-b1f1-ae82b2610758\">\n",
              "    <div class=\"colab-df-container\">\n",
              "      <div>\n",
              "<style scoped>\n",
              "    .dataframe tbody tr th:only-of-type {\n",
              "        vertical-align: middle;\n",
              "    }\n",
              "\n",
              "    .dataframe tbody tr th {\n",
              "        vertical-align: top;\n",
              "    }\n",
              "\n",
              "    .dataframe thead th {\n",
              "        text-align: right;\n",
              "    }\n",
              "</style>\n",
              "<table border=\"1\" class=\"dataframe\">\n",
              "  <thead>\n",
              "    <tr style=\"text-align: right;\">\n",
              "      <th></th>\n",
              "      <th>V1</th>\n",
              "      <th>V2</th>\n",
              "      <th>V3</th>\n",
              "      <th>V4</th>\n",
              "      <th>V5</th>\n",
              "      <th>V6</th>\n",
              "      <th>V7</th>\n",
              "      <th>V8</th>\n",
              "      <th>V9</th>\n",
              "      <th>V10</th>\n",
              "      <th>...</th>\n",
              "      <th>V33</th>\n",
              "      <th>V34</th>\n",
              "      <th>V35</th>\n",
              "      <th>V36</th>\n",
              "      <th>V37</th>\n",
              "      <th>V38</th>\n",
              "      <th>V39</th>\n",
              "      <th>V40</th>\n",
              "      <th>V41</th>\n",
              "      <th>y</th>\n",
              "    </tr>\n",
              "  </thead>\n",
              "  <tbody>\n",
              "    <tr>\n",
              "      <th>543</th>\n",
              "      <td>3.802</td>\n",
              "      <td>2.6771</td>\n",
              "      <td>0.0</td>\n",
              "      <td>0.0</td>\n",
              "      <td>2.0</td>\n",
              "      <td>0.0</td>\n",
              "      <td>0.0</td>\n",
              "      <td>20.0</td>\n",
              "      <td>2.0</td>\n",
              "      <td>0.0</td>\n",
              "      <td>...</td>\n",
              "      <td>0.0</td>\n",
              "      <td>4.0</td>\n",
              "      <td>5.0</td>\n",
              "      <td>2.937</td>\n",
              "      <td>2.357</td>\n",
              "      <td>3.0</td>\n",
              "      <td>6.869</td>\n",
              "      <td>0.0</td>\n",
              "      <td>0.0</td>\n",
              "      <td>1</td>\n",
              "    </tr>\n",
              "    <tr>\n",
              "      <th>79</th>\n",
              "      <td>4.607</td>\n",
              "      <td>3.0422</td>\n",
              "      <td>0.0</td>\n",
              "      <td>0.0</td>\n",
              "      <td>0.0</td>\n",
              "      <td>0.0</td>\n",
              "      <td>2.0</td>\n",
              "      <td>47.1</td>\n",
              "      <td>1.0</td>\n",
              "      <td>1.0</td>\n",
              "      <td>...</td>\n",
              "      <td>0.0</td>\n",
              "      <td>0.0</td>\n",
              "      <td>0.0</td>\n",
              "      <td>3.651</td>\n",
              "      <td>2.481</td>\n",
              "      <td>0.0</td>\n",
              "      <td>8.116</td>\n",
              "      <td>0.0</td>\n",
              "      <td>0.0</td>\n",
              "      <td>2</td>\n",
              "    </tr>\n",
              "    <tr>\n",
              "      <th>588</th>\n",
              "      <td>5.013</td>\n",
              "      <td>1.8267</td>\n",
              "      <td>2.0</td>\n",
              "      <td>1.0</td>\n",
              "      <td>16.0</td>\n",
              "      <td>0.0</td>\n",
              "      <td>7.0</td>\n",
              "      <td>42.4</td>\n",
              "      <td>2.0</td>\n",
              "      <td>5.0</td>\n",
              "      <td>...</td>\n",
              "      <td>4.0</td>\n",
              "      <td>13.0</td>\n",
              "      <td>1.0</td>\n",
              "      <td>4.304</td>\n",
              "      <td>2.444</td>\n",
              "      <td>5.0</td>\n",
              "      <td>9.956</td>\n",
              "      <td>0.0</td>\n",
              "      <td>1.0</td>\n",
              "      <td>1</td>\n",
              "    </tr>\n",
              "    <tr>\n",
              "      <th>919</th>\n",
              "      <td>5.323</td>\n",
              "      <td>4.4887</td>\n",
              "      <td>2.0</td>\n",
              "      <td>0.0</td>\n",
              "      <td>0.0</td>\n",
              "      <td>1.0</td>\n",
              "      <td>0.0</td>\n",
              "      <td>30.0</td>\n",
              "      <td>0.0</td>\n",
              "      <td>1.0</td>\n",
              "      <td>...</td>\n",
              "      <td>0.0</td>\n",
              "      <td>2.0</td>\n",
              "      <td>2.0</td>\n",
              "      <td>7.078</td>\n",
              "      <td>3.490</td>\n",
              "      <td>2.0</td>\n",
              "      <td>12.275</td>\n",
              "      <td>0.0</td>\n",
              "      <td>2.0</td>\n",
              "      <td>1</td>\n",
              "    </tr>\n",
              "    <tr>\n",
              "      <th>447</th>\n",
              "      <td>4.975</td>\n",
              "      <td>3.2319</td>\n",
              "      <td>0.0</td>\n",
              "      <td>0.0</td>\n",
              "      <td>2.0</td>\n",
              "      <td>0.0</td>\n",
              "      <td>2.0</td>\n",
              "      <td>37.9</td>\n",
              "      <td>2.0</td>\n",
              "      <td>2.0</td>\n",
              "      <td>...</td>\n",
              "      <td>1.0</td>\n",
              "      <td>0.0</td>\n",
              "      <td>1.0</td>\n",
              "      <td>3.713</td>\n",
              "      <td>2.381</td>\n",
              "      <td>1.0</td>\n",
              "      <td>8.464</td>\n",
              "      <td>0.0</td>\n",
              "      <td>0.0</td>\n",
              "      <td>1</td>\n",
              "    </tr>\n",
              "    <tr>\n",
              "      <th>...</th>\n",
              "      <td>...</td>\n",
              "      <td>...</td>\n",
              "      <td>...</td>\n",
              "      <td>...</td>\n",
              "      <td>...</td>\n",
              "      <td>...</td>\n",
              "      <td>...</td>\n",
              "      <td>...</td>\n",
              "      <td>...</td>\n",
              "      <td>...</td>\n",
              "      <td>...</td>\n",
              "      <td>...</td>\n",
              "      <td>...</td>\n",
              "      <td>...</td>\n",
              "      <td>...</td>\n",
              "      <td>...</td>\n",
              "      <td>...</td>\n",
              "      <td>...</td>\n",
              "      <td>...</td>\n",
              "      <td>...</td>\n",
              "      <td>...</td>\n",
              "    </tr>\n",
              "    <tr>\n",
              "      <th>997</th>\n",
              "      <td>4.691</td>\n",
              "      <td>4.7731</td>\n",
              "      <td>0.0</td>\n",
              "      <td>0.0</td>\n",
              "      <td>4.0</td>\n",
              "      <td>0.0</td>\n",
              "      <td>0.0</td>\n",
              "      <td>26.9</td>\n",
              "      <td>4.0</td>\n",
              "      <td>4.0</td>\n",
              "      <td>...</td>\n",
              "      <td>0.0</td>\n",
              "      <td>6.0</td>\n",
              "      <td>4.0</td>\n",
              "      <td>3.321</td>\n",
              "      <td>2.517</td>\n",
              "      <td>2.0</td>\n",
              "      <td>8.334</td>\n",
              "      <td>0.0</td>\n",
              "      <td>0.0</td>\n",
              "      <td>1</td>\n",
              "    </tr>\n",
              "    <tr>\n",
              "      <th>352</th>\n",
              "      <td>5.336</td>\n",
              "      <td>2.2280</td>\n",
              "      <td>2.0</td>\n",
              "      <td>0.0</td>\n",
              "      <td>4.0</td>\n",
              "      <td>0.0</td>\n",
              "      <td>2.0</td>\n",
              "      <td>58.3</td>\n",
              "      <td>0.0</td>\n",
              "      <td>2.0</td>\n",
              "      <td>...</td>\n",
              "      <td>0.0</td>\n",
              "      <td>2.0</td>\n",
              "      <td>0.0</td>\n",
              "      <td>4.238</td>\n",
              "      <td>2.800</td>\n",
              "      <td>2.0</td>\n",
              "      <td>9.511</td>\n",
              "      <td>0.0</td>\n",
              "      <td>0.0</td>\n",
              "      <td>1</td>\n",
              "    </tr>\n",
              "    <tr>\n",
              "      <th>585</th>\n",
              "      <td>4.838</td>\n",
              "      <td>2.2234</td>\n",
              "      <td>0.0</td>\n",
              "      <td>0.0</td>\n",
              "      <td>2.0</td>\n",
              "      <td>0.0</td>\n",
              "      <td>0.0</td>\n",
              "      <td>33.3</td>\n",
              "      <td>0.0</td>\n",
              "      <td>0.0</td>\n",
              "      <td>...</td>\n",
              "      <td>0.0</td>\n",
              "      <td>5.0</td>\n",
              "      <td>0.0</td>\n",
              "      <td>3.502</td>\n",
              "      <td>1.697</td>\n",
              "      <td>2.0</td>\n",
              "      <td>7.886</td>\n",
              "      <td>0.0</td>\n",
              "      <td>0.0</td>\n",
              "      <td>1</td>\n",
              "    </tr>\n",
              "    <tr>\n",
              "      <th>314</th>\n",
              "      <td>4.461</td>\n",
              "      <td>3.6265</td>\n",
              "      <td>0.0</td>\n",
              "      <td>0.0</td>\n",
              "      <td>8.0</td>\n",
              "      <td>0.0</td>\n",
              "      <td>0.0</td>\n",
              "      <td>25.7</td>\n",
              "      <td>0.0</td>\n",
              "      <td>0.0</td>\n",
              "      <td>...</td>\n",
              "      <td>0.0</td>\n",
              "      <td>4.0</td>\n",
              "      <td>0.0</td>\n",
              "      <td>3.216</td>\n",
              "      <td>1.833</td>\n",
              "      <td>3.0</td>\n",
              "      <td>7.767</td>\n",
              "      <td>0.0</td>\n",
              "      <td>0.0</td>\n",
              "      <td>1</td>\n",
              "    </tr>\n",
              "    <tr>\n",
              "      <th>605</th>\n",
              "      <td>5.098</td>\n",
              "      <td>3.4015</td>\n",
              "      <td>0.0</td>\n",
              "      <td>0.0</td>\n",
              "      <td>0.0</td>\n",
              "      <td>1.0</td>\n",
              "      <td>0.0</td>\n",
              "      <td>26.1</td>\n",
              "      <td>4.0</td>\n",
              "      <td>1.0</td>\n",
              "      <td>...</td>\n",
              "      <td>0.0</td>\n",
              "      <td>4.0</td>\n",
              "      <td>2.0</td>\n",
              "      <td>3.271</td>\n",
              "      <td>2.344</td>\n",
              "      <td>1.0</td>\n",
              "      <td>7.383</td>\n",
              "      <td>0.0</td>\n",
              "      <td>0.0</td>\n",
              "      <td>1</td>\n",
              "    </tr>\n",
              "  </tbody>\n",
              "</table>\n",
              "<p>706 rows × 42 columns</p>\n",
              "</div>\n",
              "      <button class=\"colab-df-convert\" onclick=\"convertToInteractive('df-8a9e6954-f41c-4436-b1f1-ae82b2610758')\"\n",
              "              title=\"Convert this dataframe to an interactive table.\"\n",
              "              style=\"display:none;\">\n",
              "        \n",
              "  <svg xmlns=\"http://www.w3.org/2000/svg\" height=\"24px\"viewBox=\"0 0 24 24\"\n",
              "       width=\"24px\">\n",
              "    <path d=\"M0 0h24v24H0V0z\" fill=\"none\"/>\n",
              "    <path d=\"M18.56 5.44l.94 2.06.94-2.06 2.06-.94-2.06-.94-.94-2.06-.94 2.06-2.06.94zm-11 1L8.5 8.5l.94-2.06 2.06-.94-2.06-.94L8.5 2.5l-.94 2.06-2.06.94zm10 10l.94 2.06.94-2.06 2.06-.94-2.06-.94-.94-2.06-.94 2.06-2.06.94z\"/><path d=\"M17.41 7.96l-1.37-1.37c-.4-.4-.92-.59-1.43-.59-.52 0-1.04.2-1.43.59L10.3 9.45l-7.72 7.72c-.78.78-.78 2.05 0 2.83L4 21.41c.39.39.9.59 1.41.59.51 0 1.02-.2 1.41-.59l7.78-7.78 2.81-2.81c.8-.78.8-2.07 0-2.86zM5.41 20L4 18.59l7.72-7.72 1.47 1.35L5.41 20z\"/>\n",
              "  </svg>\n",
              "      </button>\n",
              "      \n",
              "  <style>\n",
              "    .colab-df-container {\n",
              "      display:flex;\n",
              "      flex-wrap:wrap;\n",
              "      gap: 12px;\n",
              "    }\n",
              "\n",
              "    .colab-df-convert {\n",
              "      background-color: #E8F0FE;\n",
              "      border: none;\n",
              "      border-radius: 50%;\n",
              "      cursor: pointer;\n",
              "      display: none;\n",
              "      fill: #1967D2;\n",
              "      height: 32px;\n",
              "      padding: 0 0 0 0;\n",
              "      width: 32px;\n",
              "    }\n",
              "\n",
              "    .colab-df-convert:hover {\n",
              "      background-color: #E2EBFA;\n",
              "      box-shadow: 0px 1px 2px rgba(60, 64, 67, 0.3), 0px 1px 3px 1px rgba(60, 64, 67, 0.15);\n",
              "      fill: #174EA6;\n",
              "    }\n",
              "\n",
              "    [theme=dark] .colab-df-convert {\n",
              "      background-color: #3B4455;\n",
              "      fill: #D2E3FC;\n",
              "    }\n",
              "\n",
              "    [theme=dark] .colab-df-convert:hover {\n",
              "      background-color: #434B5C;\n",
              "      box-shadow: 0px 1px 3px 1px rgba(0, 0, 0, 0.15);\n",
              "      filter: drop-shadow(0px 1px 2px rgba(0, 0, 0, 0.3));\n",
              "      fill: #FFFFFF;\n",
              "    }\n",
              "  </style>\n",
              "\n",
              "      <script>\n",
              "        const buttonEl =\n",
              "          document.querySelector('#df-8a9e6954-f41c-4436-b1f1-ae82b2610758 button.colab-df-convert');\n",
              "        buttonEl.style.display =\n",
              "          google.colab.kernel.accessAllowed ? 'block' : 'none';\n",
              "\n",
              "        async function convertToInteractive(key) {\n",
              "          const element = document.querySelector('#df-8a9e6954-f41c-4436-b1f1-ae82b2610758');\n",
              "          const dataTable =\n",
              "            await google.colab.kernel.invokeFunction('convertToInteractive',\n",
              "                                                     [key], {});\n",
              "          if (!dataTable) return;\n",
              "\n",
              "          const docLinkHtml = 'Like what you see? Visit the ' +\n",
              "            '<a target=\"_blank\" href=https://colab.research.google.com/notebooks/data_table.ipynb>data table notebook</a>'\n",
              "            + ' to learn more about interactive tables.';\n",
              "          element.innerHTML = '';\n",
              "          dataTable['output_type'] = 'display_data';\n",
              "          await google.colab.output.renderOutput(dataTable, element);\n",
              "          const docLink = document.createElement('div');\n",
              "          docLink.innerHTML = docLinkHtml;\n",
              "          element.appendChild(docLink);\n",
              "        }\n",
              "      </script>\n",
              "    </div>\n",
              "  </div>\n",
              "  "
            ]
          },
          "metadata": {},
          "execution_count": 111
        }
      ]
    },
    {
      "cell_type": "code",
      "source": [
        "#SMOTE MLP (remember to run the previous previous segment before this!)\n",
        "import pandas as pd\n",
        "from sklearn.neural_network import MLPClassifier\n",
        "from sklearn.datasets import make_classification\n",
        "from sklearn.model_selection import train_test_split\n",
        "#X, y = fetch_openml('qsar-biodeg', return_X_y=True)\n",
        "#X_train, X_test, y_train, y_test = train_test_split(X, y, test_size=0.33)\n",
        "X__resampled_train, X_resampled_test, y_resampled_train, y_resampled_test = train_test_split(X_train_res, y_train_res, test_size=0.33)\n",
        "clf = MLPClassifier(random_state=1, max_iter=1000).fit(X_train_res, y_train_res)\n",
        "\n",
        "from sklearn.model_selection import cross_val_score\n",
        "scoresMLP = cross_val_score(clf, X_train_res, y_train_res, cv=10)\n",
        "scoresMLP\n",
        "\n",
        "#Getting the data for the SMOTE decision tree classifier\n",
        "Y_test_pred = clf.predict(X_resampled_test)\n",
        "from sklearn.metrics import classification_report\n",
        "print(classification_report(y_resampled_test, Y_test_pred))"
      ],
      "metadata": {
        "colab": {
          "base_uri": "https://localhost:8080/"
        },
        "id": "w7C_v0JJ1fB2",
        "outputId": "3d1b634e-38bb-4be5-b3c2-dbe8362cddbc"
      },
      "execution_count": 126,
      "outputs": [
        {
          "output_type": "stream",
          "name": "stdout",
          "text": [
            "              precision    recall  f1-score   support\n",
            "\n",
            "         1.0       1.00      1.00      1.00       159\n",
            "         2.0       1.00      1.00      1.00       155\n",
            "\n",
            "    accuracy                           1.00       314\n",
            "   macro avg       1.00      1.00      1.00       314\n",
            "weighted avg       1.00      1.00      1.00       314\n",
            "\n"
          ]
        }
      ]
    },
    {
      "cell_type": "code",
      "source": [
        "y_test"
      ],
      "metadata": {
        "colab": {
          "base_uri": "https://localhost:8080/"
        },
        "id": "3XrcX6qpzrWw",
        "outputId": "1e4200b5-b260-4d95-d945-7dd8babb0941"
      },
      "execution_count": 41,
      "outputs": [
        {
          "output_type": "execute_result",
          "data": {
            "text/plain": [
              "938    1\n",
              "761    1\n",
              "237    2\n",
              "598    1\n",
              "121    2\n",
              "      ..\n",
              "911    1\n",
              "317    1\n",
              "796    1\n",
              "771    1\n",
              "253    2\n",
              "Name: Class, Length: 349, dtype: category\n",
              "Categories (2, object): ['1', '2']"
            ]
          },
          "metadata": {},
          "execution_count": 41
        }
      ]
    }
  ]
}